{
 "cells": [
  {
   "cell_type": "code",
   "execution_count": 1,
   "metadata": {
    "code_folding": [],
    "execution": {
     "iopub.execute_input": "2020-11-27T16:10:15.633216Z",
     "iopub.status.busy": "2020-11-27T16:10:15.632929Z",
     "iopub.status.idle": "2020-11-27T16:10:16.382569Z",
     "shell.execute_reply": "2020-11-27T16:10:16.382830Z"
    }
   },
   "outputs": [],
   "source": [
    "# mre 2020-11-27\n",
    "\n",
    "import numpy as np\n",
    "\n",
    "import os\n",
    "os.environ[\"CUDA_VISIBLE_DEVICES\"] = \"-1\" \n",
    "\n",
    "import tensorflow as tf"
   ]
  },
  {
   "cell_type": "markdown",
   "metadata": {},
   "source": [
    "# Helper for running interpreter"
   ]
  },
  {
   "cell_type": "code",
   "execution_count": 2,
   "metadata": {
    "execution": {
     "iopub.execute_input": "2020-11-27T16:10:16.386876Z",
     "iopub.status.busy": "2020-11-27T16:10:16.386580Z",
     "iopub.status.idle": "2020-11-27T16:10:16.388355Z",
     "shell.execute_reply": "2020-11-27T16:10:16.388113Z"
    }
   },
   "outputs": [],
   "source": [
    "# run interpreter on random input\n",
    "def test(interpreter):\n",
    "    interpreter.allocate_tensors()\n",
    "\n",
    "    input_details  = interpreter.get_input_details()\n",
    "    output_details = interpreter.get_output_details()\n",
    "\n",
    "    input_shape = input_details[0]['shape']\n",
    "    input_data  = np.array(np.random.random_sample(input_shape), dtype=np.float32)\n",
    " \n",
    "    interpreter.set_tensor(input_details[0]['index'], input_data)\n",
    "    interpreter.invoke()\n",
    "    output_data = interpreter.get_tensor(output_details[0]['index'])\n",
    "    \n",
    "    return tf.convert_to_tensor(output_data)\n",
    "\n",
    "\n",
    "# run interpreter on real dataset data\n",
    "def run(interpreter, xx):\n",
    "    interpreter.allocate_tensors()\n",
    "\n",
    "    input_details  = interpreter.get_input_details()\n",
    "    output_details = interpreter.get_output_details()\n",
    "\n",
    "    yy = []\n",
    "    for x in xx:\n",
    "        interpreter.set_tensor(input_details[0]['index'], x)\n",
    "        interpreter.invoke()\n",
    "        y = interpreter.get_tensor(output_details[0]['index'])\n",
    "\n",
    "        yy.append(tf.convert_to_tensor(y))\n",
    " \n",
    "    return yy"
   ]
  },
  {
   "cell_type": "markdown",
   "metadata": {},
   "source": [
    "# Helper uint8"
   ]
  },
  {
   "cell_type": "code",
   "execution_count": 3,
   "metadata": {
    "execution": {
     "iopub.execute_input": "2020-11-27T16:10:16.391607Z",
     "iopub.status.busy": "2020-11-27T16:10:16.391323Z",
     "iopub.status.idle": "2020-11-27T16:10:16.393259Z",
     "shell.execute_reply": "2020-11-27T16:10:16.392971Z"
    }
   },
   "outputs": [],
   "source": [
    "# convert float to uint8\n",
    "def toUint8(interpreter, xx):\n",
    "    s, c =interpreter.get_input_details()[0]['quantization']\n",
    "    x8 = [tf.cast(tf.round(x/s + c), dtype=tf.uint8) for x in data]\n",
    "    return x8\n",
    "\n",
    "\n",
    "# run uint8-Model with hand-made IO-conversion\n",
    "def runUint8(interpreter, x):\n",
    "    \"\"\"\n",
    "    x -> uint8-input -> interpreter -> uint8-output -> float\n",
    "    \"\"\"\n",
    "\n",
    "    x8 = toUint8(interpreter, x)\n",
    "    y8 = run(interpreter, x8)\n",
    "    \n",
    "    s, c = interpreter.get_output_details()[0]['quantization']\n",
    "    \n",
    "    y = [s * (tf.cast(yk, tf.float32) - c) for yk in y8]\n",
    "    \n",
    "    return y "
   ]
  },
  {
   "cell_type": "markdown",
   "metadata": {},
   "source": [
    "# Helper for TPU execution"
   ]
  },
  {
   "cell_type": "code",
   "execution_count": 4,
   "metadata": {
    "execution": {
     "iopub.execute_input": "2020-11-27T16:10:16.395949Z",
     "iopub.status.busy": "2020-11-27T16:10:16.395591Z",
     "iopub.status.idle": "2020-11-27T16:10:16.398461Z",
     "shell.execute_reply": "2020-11-27T16:10:16.398177Z"
    }
   },
   "outputs": [],
   "source": [
    "import platform\n",
    "import tflite_runtime.interpreter as tflite\n",
    "\n",
    "EDGETPU_SHARED_LIB = {\n",
    "  'Linux': 'libedgetpu.so.1',\n",
    "  'Darwin': 'libedgetpu.1.dylib',\n",
    "  'Windows': 'edgetpu.dll'\n",
    "}[platform.system()]\n",
    "\n",
    "\n",
    "def make_interpreter(model_file):\n",
    "  model_file, *device = model_file.split('@')\n",
    "  return tflite.Interpreter(\n",
    "      model_path=model_file,\n",
    "      experimental_delegates=[\n",
    "          tflite.load_delegate(EDGETPU_SHARED_LIB,\n",
    "                               {'device': device[0]} if device else {})\n",
    "      ])"
   ]
  },
  {
   "cell_type": "markdown",
   "metadata": {},
   "source": [
    "# Definition of (concrete) function and data"
   ]
  },
  {
   "cell_type": "code",
   "execution_count": 5,
   "metadata": {
    "execution": {
     "iopub.execute_input": "2020-11-27T16:10:16.445181Z",
     "iopub.status.busy": "2020-11-27T16:10:16.444542Z",
     "iopub.status.idle": "2020-11-27T16:10:16.501988Z",
     "shell.execute_reply": "2020-11-27T16:10:16.502232Z"
    }
   },
   "outputs": [
    {
     "data": {
      "text/plain": [
       "<tf.Tensor: shape=(2, 2), dtype=float32, numpy=\n",
       "array([[2., 2.],\n",
       "       [2., 2.]], dtype=float32)>"
      ]
     },
     "execution_count": 1,
     "metadata": {},
     "output_type": "execute_result"
    }
   ],
   "source": [
    "@tf.function\n",
    "def f(a):\n",
    "  return a*a*a + 1\n",
    "\n",
    "f(tf.ones([2, 2]))"
   ]
  },
  {
   "cell_type": "code",
   "execution_count": 6,
   "metadata": {
    "execution": {
     "iopub.execute_input": "2020-11-27T16:10:16.504917Z",
     "iopub.status.busy": "2020-11-27T16:10:16.504621Z",
     "iopub.status.idle": "2020-11-27T16:10:16.507962Z",
     "shell.execute_reply": "2020-11-27T16:10:16.508187Z"
    }
   },
   "outputs": [
    {
     "data": {
      "text/plain": [
       "[<tf.Tensor: shape=(1, 1), dtype=float32, numpy=array([[2.7626588]], dtype=float32)>,\n",
       " <tf.Tensor: shape=(1, 1), dtype=float32, numpy=array([[-18.54628]], dtype=float32)>,\n",
       " <tf.Tensor: shape=(1, 1), dtype=float32, numpy=array([[6.2390113]], dtype=float32)>,\n",
       " <tf.Tensor: shape=(1, 1), dtype=float32, numpy=array([[11.453113]], dtype=float32)>,\n",
       " <tf.Tensor: shape=(1, 1), dtype=float32, numpy=array([[10.371904]], dtype=float32)>,\n",
       " <tf.Tensor: shape=(1, 1), dtype=float32, numpy=array([[18.86639]], dtype=float32)>,\n",
       " <tf.Tensor: shape=(1, 1), dtype=float32, numpy=array([[-1.1169829]], dtype=float32)>,\n",
       " <tf.Tensor: shape=(1, 1), dtype=float32, numpy=array([[-3.6210134]], dtype=float32)>,\n",
       " <tf.Tensor: shape=(1, 1), dtype=float32, numpy=array([[1.4867505]], dtype=float32)>,\n",
       " <tf.Tensor: shape=(1, 1), dtype=float32, numpy=array([[-4.3778315]], dtype=float32)>]"
      ]
     },
     "execution_count": 1,
     "metadata": {},
     "output_type": "execute_result"
    }
   ],
   "source": [
    "nx = 10\n",
    "\n",
    "## dataset for debugging\n",
    "#xx = np.arange(nx) - nx/2\n",
    "#data = [tf.constant(10*x, shape=(1,1), dtype=tf.float32) for x in xx]\n",
    "\n",
    "## dataset chosen so that quantization errors are obvious\n",
    "np.random.seed(17)\n",
    "data = [tf.constant(10*x, shape=(1,1), dtype=tf.float32) for x in np.random.randn(nx)]\n",
    "\n",
    "data"
   ]
  },
  {
   "cell_type": "code",
   "execution_count": 7,
   "metadata": {
    "execution": {
     "iopub.execute_input": "2020-11-27T16:10:16.511474Z",
     "iopub.status.busy": "2020-11-27T16:10:16.511182Z",
     "iopub.status.idle": "2020-11-27T16:10:16.518745Z",
     "shell.execute_reply": "2020-11-27T16:10:16.518991Z"
    }
   },
   "outputs": [
    {
     "data": {
      "text/plain": [
       "[<tf.Tensor: shape=(1, 1), dtype=float32, numpy=array([[22.085396]], dtype=float32)>,\n",
       " <tf.Tensor: shape=(1, 1), dtype=float32, numpy=array([[-6378.262]], dtype=float32)>,\n",
       " <tf.Tensor: shape=(1, 1), dtype=float32, numpy=array([[243.85515]], dtype=float32)>,\n",
       " <tf.Tensor: shape=(1, 1), dtype=float32, numpy=array([[1503.3481]], dtype=float32)>,\n",
       " <tf.Tensor: shape=(1, 1), dtype=float32, numpy=array([[1116.7721]], dtype=float32)>,\n",
       " <tf.Tensor: shape=(1, 1), dtype=float32, numpy=array([[6716.3154]], dtype=float32)>,\n",
       " <tf.Tensor: shape=(1, 1), dtype=float32, numpy=array([[-0.39360476]], dtype=float32)>,\n",
       " <tf.Tensor: shape=(1, 1), dtype=float32, numpy=array([[-46.47778]], dtype=float32)>,\n",
       " <tf.Tensor: shape=(1, 1), dtype=float32, numpy=array([[4.2863536]], dtype=float32)>,\n",
       " <tf.Tensor: shape=(1, 1), dtype=float32, numpy=array([[-82.90293]], dtype=float32)>]"
      ]
     },
     "execution_count": 1,
     "metadata": {},
     "output_type": "execute_result"
    }
   ],
   "source": [
    "list(map(f, data))"
   ]
  },
  {
   "cell_type": "code",
   "execution_count": 8,
   "metadata": {
    "execution": {
     "iopub.execute_input": "2020-11-27T16:10:16.521013Z",
     "iopub.status.busy": "2020-11-27T16:10:16.520722Z",
     "iopub.status.idle": "2020-11-27T16:10:16.522331Z",
     "shell.execute_reply": "2020-11-27T16:10:16.522033Z"
    }
   },
   "outputs": [],
   "source": [
    "# create concrete function for given input shape\n",
    "cf = f.get_concrete_function(data[0])"
   ]
  },
  {
   "cell_type": "code",
   "execution_count": 9,
   "metadata": {
    "execution": {
     "iopub.execute_input": "2020-11-27T16:10:16.524364Z",
     "iopub.status.busy": "2020-11-27T16:10:16.523998Z",
     "iopub.status.idle": "2020-11-27T16:10:16.528058Z",
     "shell.execute_reply": "2020-11-27T16:10:16.528286Z"
    }
   },
   "outputs": [
    {
     "data": {
      "text/plain": [
       "[<tf.Tensor: shape=(1, 1), dtype=float32, numpy=array([[22.085396]], dtype=float32)>,\n",
       " <tf.Tensor: shape=(1, 1), dtype=float32, numpy=array([[-6378.262]], dtype=float32)>,\n",
       " <tf.Tensor: shape=(1, 1), dtype=float32, numpy=array([[243.85515]], dtype=float32)>,\n",
       " <tf.Tensor: shape=(1, 1), dtype=float32, numpy=array([[1503.3481]], dtype=float32)>,\n",
       " <tf.Tensor: shape=(1, 1), dtype=float32, numpy=array([[1116.7721]], dtype=float32)>,\n",
       " <tf.Tensor: shape=(1, 1), dtype=float32, numpy=array([[6716.3154]], dtype=float32)>,\n",
       " <tf.Tensor: shape=(1, 1), dtype=float32, numpy=array([[-0.39360476]], dtype=float32)>,\n",
       " <tf.Tensor: shape=(1, 1), dtype=float32, numpy=array([[-46.47778]], dtype=float32)>,\n",
       " <tf.Tensor: shape=(1, 1), dtype=float32, numpy=array([[4.2863536]], dtype=float32)>,\n",
       " <tf.Tensor: shape=(1, 1), dtype=float32, numpy=array([[-82.90293]], dtype=float32)>]"
      ]
     },
     "execution_count": 1,
     "metadata": {},
     "output_type": "execute_result"
    }
   ],
   "source": [
    "list(map(cf, data))"
   ]
  },
  {
   "cell_type": "markdown",
   "metadata": {},
   "source": [
    "# Conversion to TFLite"
   ]
  },
  {
   "cell_type": "markdown",
   "metadata": {},
   "source": [
    "## Convert concrete function to TFLite"
   ]
  },
  {
   "cell_type": "code",
   "execution_count": 10,
   "metadata": {
    "execution": {
     "iopub.execute_input": "2020-11-27T16:10:16.533597Z",
     "iopub.status.busy": "2020-11-27T16:10:16.533263Z",
     "iopub.status.idle": "2020-11-27T16:10:16.547100Z",
     "shell.execute_reply": "2020-11-27T16:10:16.546829Z"
    }
   },
   "outputs": [],
   "source": [
    "converter = tf.lite.TFLiteConverter.from_concrete_functions([cf])\n",
    "\n",
    "model_lite = converter.convert()"
   ]
  },
  {
   "cell_type": "markdown",
   "metadata": {},
   "source": [
    "## Execution on CPU with random input"
   ]
  },
  {
   "cell_type": "code",
   "execution_count": 11,
   "metadata": {
    "execution": {
     "iopub.execute_input": "2020-11-27T16:10:16.550477Z",
     "iopub.status.busy": "2020-11-27T16:10:16.550168Z",
     "iopub.status.idle": "2020-11-27T16:10:16.552436Z",
     "shell.execute_reply": "2020-11-27T16:10:16.552178Z"
    }
   },
   "outputs": [
    {
     "data": {
      "text/plain": [
       "<tf.Tensor: shape=(1, 1), dtype=float32, numpy=array([[1.1679695]], dtype=float32)>"
      ]
     },
     "execution_count": 1,
     "metadata": {},
     "output_type": "execute_result"
    }
   ],
   "source": [
    "interpreter = tf.lite.Interpreter(model_content=model_lite)\n",
    "\n",
    "test(interpreter)"
   ]
  },
  {
   "cell_type": "markdown",
   "metadata": {},
   "source": [
    "## Execution on CPU with own input"
   ]
  },
  {
   "cell_type": "code",
   "execution_count": 12,
   "metadata": {
    "execution": {
     "iopub.execute_input": "2020-11-27T16:10:16.555377Z",
     "iopub.status.busy": "2020-11-27T16:10:16.554726Z",
     "iopub.status.idle": "2020-11-27T16:10:16.557410Z",
     "shell.execute_reply": "2020-11-27T16:10:16.557654Z"
    }
   },
   "outputs": [
    {
     "data": {
      "text/plain": [
       "[<tf.Tensor: shape=(1, 1), dtype=float32, numpy=array([[22.085396]], dtype=float32)>,\n",
       " <tf.Tensor: shape=(1, 1), dtype=float32, numpy=array([[-6378.262]], dtype=float32)>,\n",
       " <tf.Tensor: shape=(1, 1), dtype=float32, numpy=array([[243.85515]], dtype=float32)>,\n",
       " <tf.Tensor: shape=(1, 1), dtype=float32, numpy=array([[1503.3481]], dtype=float32)>,\n",
       " <tf.Tensor: shape=(1, 1), dtype=float32, numpy=array([[1116.7721]], dtype=float32)>,\n",
       " <tf.Tensor: shape=(1, 1), dtype=float32, numpy=array([[6716.3154]], dtype=float32)>,\n",
       " <tf.Tensor: shape=(1, 1), dtype=float32, numpy=array([[-0.39360476]], dtype=float32)>,\n",
       " <tf.Tensor: shape=(1, 1), dtype=float32, numpy=array([[-46.47778]], dtype=float32)>,\n",
       " <tf.Tensor: shape=(1, 1), dtype=float32, numpy=array([[4.2863536]], dtype=float32)>,\n",
       " <tf.Tensor: shape=(1, 1), dtype=float32, numpy=array([[-82.90293]], dtype=float32)>]"
      ]
     },
     "execution_count": 1,
     "metadata": {},
     "output_type": "execute_result"
    }
   ],
   "source": [
    "run(interpreter, data)"
   ]
  },
  {
   "cell_type": "markdown",
   "metadata": {},
   "source": [
    "# Conversion to TFLite-uint8 with float32-IO-layers"
   ]
  },
  {
   "cell_type": "markdown",
   "metadata": {},
   "source": [
    "## Representative data for quantization"
   ]
  },
  {
   "cell_type": "code",
   "execution_count": 13,
   "metadata": {
    "execution": {
     "iopub.execute_input": "2020-11-27T16:10:16.560962Z",
     "iopub.status.busy": "2020-11-27T16:10:16.560193Z",
     "iopub.status.idle": "2020-11-27T16:10:16.562589Z",
     "shell.execute_reply": "2020-11-27T16:10:16.562830Z"
    }
   },
   "outputs": [
    {
     "data": {
      "text/plain": [
       "[[<tf.Tensor: shape=(1, 1), dtype=float32, numpy=array([[2.7626588]], dtype=float32)>],\n",
       " [<tf.Tensor: shape=(1, 1), dtype=float32, numpy=array([[-18.54628]], dtype=float32)>],\n",
       " [<tf.Tensor: shape=(1, 1), dtype=float32, numpy=array([[6.2390113]], dtype=float32)>],\n",
       " [<tf.Tensor: shape=(1, 1), dtype=float32, numpy=array([[11.453113]], dtype=float32)>],\n",
       " [<tf.Tensor: shape=(1, 1), dtype=float32, numpy=array([[10.371904]], dtype=float32)>],\n",
       " [<tf.Tensor: shape=(1, 1), dtype=float32, numpy=array([[18.86639]], dtype=float32)>],\n",
       " [<tf.Tensor: shape=(1, 1), dtype=float32, numpy=array([[-1.1169829]], dtype=float32)>],\n",
       " [<tf.Tensor: shape=(1, 1), dtype=float32, numpy=array([[-3.6210134]], dtype=float32)>],\n",
       " [<tf.Tensor: shape=(1, 1), dtype=float32, numpy=array([[1.4867505]], dtype=float32)>],\n",
       " [<tf.Tensor: shape=(1, 1), dtype=float32, numpy=array([[-4.3778315]], dtype=float32)>]]"
      ]
     },
     "execution_count": 1,
     "metadata": {},
     "output_type": "execute_result"
    }
   ],
   "source": [
    "def representative_data_gen():\n",
    "    for x in data:\n",
    "        yield [x]\n",
    "        \n",
    "list(representative_data_gen())"
   ]
  },
  {
   "cell_type": "markdown",
   "metadata": {},
   "source": [
    "## Convert concrete function to TFLite-uint8 with float32-IO-layers"
   ]
  },
  {
   "cell_type": "code",
   "execution_count": 14,
   "metadata": {
    "execution": {
     "iopub.execute_input": "2020-11-27T16:10:16.568197Z",
     "iopub.status.busy": "2020-11-27T16:10:16.567829Z",
     "iopub.status.idle": "2020-11-27T16:10:16.580574Z",
     "shell.execute_reply": "2020-11-27T16:10:16.580812Z"
    }
   },
   "outputs": [],
   "source": [
    "converter = tf.lite.TFLiteConverter.from_concrete_functions([cf])\n",
    "\n",
    "converter.experimental_new_converter = True\n",
    "converter.target_spec.supported_ops  = [tf.lite.OpsSet.TFLITE_BUILTINS_INT8]\n",
    "\n",
    "converter.inference_input_type  = tf.float32\n",
    "converter.inference_output_type = tf.float32\n",
    "\n",
    "converter.representative_dataset = representative_data_gen\n",
    "\n",
    "model_int_fio_lite = converter.convert()"
   ]
  },
  {
   "cell_type": "markdown",
   "metadata": {},
   "source": [
    "## Run on CPU"
   ]
  },
  {
   "cell_type": "code",
   "execution_count": 15,
   "metadata": {
    "execution": {
     "iopub.execute_input": "2020-11-27T16:10:16.584096Z",
     "iopub.status.busy": "2020-11-27T16:10:16.583736Z",
     "iopub.status.idle": "2020-11-27T16:10:16.586288Z",
     "shell.execute_reply": "2020-11-27T16:10:16.586526Z"
    }
   },
   "outputs": [
    {
     "data": {
      "text/plain": [
       "[<tf.Tensor: shape=(1, 1), dtype=float32, numpy=array([[0.]], dtype=float32)>,\n",
       " <tf.Tensor: shape=(1, 1), dtype=float32, numpy=array([[-6316.2085]], dtype=float32)>,\n",
       " <tf.Tensor: shape=(1, 1), dtype=float32, numpy=array([[256.75644]], dtype=float32)>,\n",
       " <tf.Tensor: shape=(1, 1), dtype=float32, numpy=array([[1489.1874]], dtype=float32)>,\n",
       " <tf.Tensor: shape=(1, 1), dtype=float32, numpy=array([[1129.7283]], dtype=float32)>,\n",
       " <tf.Tensor: shape=(1, 1), dtype=float32, numpy=array([[6727.0186]], dtype=float32)>,\n",
       " <tf.Tensor: shape=(1, 1), dtype=float32, numpy=array([[0.]], dtype=float32)>,\n",
       " <tf.Tensor: shape=(1, 1), dtype=float32, numpy=array([[-51.351288]], dtype=float32)>,\n",
       " <tf.Tensor: shape=(1, 1), dtype=float32, numpy=array([[0.]], dtype=float32)>,\n",
       " <tf.Tensor: shape=(1, 1), dtype=float32, numpy=array([[-102.702576]], dtype=float32)>]"
      ]
     },
     "execution_count": 1,
     "metadata": {},
     "output_type": "execute_result"
    }
   ],
   "source": [
    "interpreter = tf.lite.Interpreter(model_content=model_int_fio_lite)\n",
    "\n",
    "run(interpreter, data)"
   ]
  },
  {
   "cell_type": "markdown",
   "metadata": {},
   "source": [
    "## Write model to file and compile it for TPU"
   ]
  },
  {
   "cell_type": "code",
   "execution_count": 16,
   "metadata": {
    "execution": {
     "iopub.execute_input": "2020-11-27T16:10:16.588474Z",
     "iopub.status.busy": "2020-11-27T16:10:16.588168Z",
     "iopub.status.idle": "2020-11-27T16:10:16.590330Z",
     "shell.execute_reply": "2020-11-27T16:10:16.590020Z"
    }
   },
   "outputs": [],
   "source": [
    "with open('model_int_fio.tflite', 'wb') as f:\n",
    "    f.write(model_int_fio_lite)"
   ]
  },
  {
   "cell_type": "code",
   "execution_count": 17,
   "metadata": {
    "execution": {
     "iopub.execute_input": "2020-11-27T16:10:16.592587Z",
     "iopub.status.busy": "2020-11-27T16:10:16.592243Z",
     "iopub.status.idle": "2020-11-27T16:10:16.723747Z",
     "shell.execute_reply": "2020-11-27T16:10:16.722478Z"
    }
   },
   "outputs": [
    {
     "name": "stdout",
     "output_type": "stream",
     "text": [
      "Edge TPU Compiler version 15.0.340273435\r\n",
      "\r\n",
      "Model compiled successfully in 11 ms.\r\n",
      "\r\n",
      "Input model: model_int_fio.tflite\r\n",
      "Input size: 1.41KiB\r\n",
      "Output model: model_int_fio_edgetpu.tflite\r\n",
      "Output size: 24.74KiB\r\n",
      "On-chip memory used for caching model parameters: 0.00B\r\n",
      "On-chip memory remaining for caching model parameters: 8.09MiB\r\n",
      "Off-chip memory used for streaming uncached model parameters: 0.00B\r\n",
      "Number of Edge TPU subgraphs: 1\r\n",
      "Total number of operations: 5\r\n",
      "Operation log: model_int_fio_edgetpu.log\r\n",
      "\r\n",
      "Model successfully compiled but not all operations are supported by the Edge TPU. A percentage of the model will instead run on the CPU, which is slower. If possible, consider updating your model to use only operations supported by the Edge TPU. For details, visit g.co/coral/model-reqs.\r\n",
      "Number of operations that will run on Edge TPU: 3\r\n",
      "Number of operations that will run on CPU: 2\r\n",
      "See the operation log file for individual operation details.\r\n"
     ]
    }
   ],
   "source": [
    "! edgetpu_compiler model_int_fio.tflite"
   ]
  },
  {
   "cell_type": "code",
   "execution_count": 18,
   "metadata": {
    "execution": {
     "iopub.execute_input": "2020-11-27T16:10:16.739293Z",
     "iopub.status.busy": "2020-11-27T16:10:16.731944Z",
     "iopub.status.idle": "2020-11-27T16:10:16.858714Z",
     "shell.execute_reply": "2020-11-27T16:10:16.857440Z"
    }
   },
   "outputs": [
    {
     "name": "stdout",
     "output_type": "stream",
     "text": [
      "-rw-rw-r-- 1 mre mre 25336 Nov 27 17:10 model_int_fio_edgetpu.tflite\r\n",
      "-rw-rw-r-- 1 mre mre  1440 Nov 27 17:10 model_int_fio.tflite\r\n"
     ]
    }
   ],
   "source": [
    "! ls -l model_int_fio*.tflite"
   ]
  },
  {
   "cell_type": "markdown",
   "metadata": {},
   "source": [
    "## Run on TPU"
   ]
  },
  {
   "cell_type": "code",
   "execution_count": 19,
   "metadata": {
    "execution": {
     "iopub.execute_input": "2020-11-27T16:10:16.912695Z",
     "iopub.status.busy": "2020-11-27T16:10:16.910811Z",
     "iopub.status.idle": "2020-11-27T16:10:16.923361Z",
     "shell.execute_reply": "2020-11-27T16:10:16.922713Z"
    }
   },
   "outputs": [
    {
     "data": {
      "text/plain": [
       "[<tf.Tensor: shape=(1, 1), dtype=float32, numpy=array([[0.]], dtype=float32)>,\n",
       " <tf.Tensor: shape=(1, 1), dtype=float32, numpy=array([[-6316.2085]], dtype=float32)>,\n",
       " <tf.Tensor: shape=(1, 1), dtype=float32, numpy=array([[256.75644]], dtype=float32)>,\n",
       " <tf.Tensor: shape=(1, 1), dtype=float32, numpy=array([[1489.1874]], dtype=float32)>,\n",
       " <tf.Tensor: shape=(1, 1), dtype=float32, numpy=array([[1129.7283]], dtype=float32)>,\n",
       " <tf.Tensor: shape=(1, 1), dtype=float32, numpy=array([[6727.0186]], dtype=float32)>,\n",
       " <tf.Tensor: shape=(1, 1), dtype=float32, numpy=array([[0.]], dtype=float32)>,\n",
       " <tf.Tensor: shape=(1, 1), dtype=float32, numpy=array([[-51.351288]], dtype=float32)>,\n",
       " <tf.Tensor: shape=(1, 1), dtype=float32, numpy=array([[0.]], dtype=float32)>,\n",
       " <tf.Tensor: shape=(1, 1), dtype=float32, numpy=array([[-102.702576]], dtype=float32)>]"
      ]
     },
     "execution_count": 1,
     "metadata": {},
     "output_type": "execute_result"
    }
   ],
   "source": [
    "interpreter = make_interpreter(\"model_int_fio_edgetpu.tflite\")\n",
    "\n",
    "run(interpreter, data)"
   ]
  },
  {
   "cell_type": "markdown",
   "metadata": {},
   "source": [
    "# Conversion to pure TFLite-uint8"
   ]
  },
  {
   "cell_type": "markdown",
   "metadata": {},
   "source": [
    "## Representative data for quantization"
   ]
  },
  {
   "cell_type": "code",
   "execution_count": 20,
   "metadata": {
    "execution": {
     "iopub.execute_input": "2020-11-27T16:10:16.929638Z",
     "iopub.status.busy": "2020-11-27T16:10:16.929208Z",
     "iopub.status.idle": "2020-11-27T16:10:16.931218Z",
     "shell.execute_reply": "2020-11-27T16:10:16.931454Z"
    },
    "scrolled": true
   },
   "outputs": [
    {
     "data": {
      "text/plain": [
       "[[<tf.Tensor: shape=(1, 1), dtype=float32, numpy=array([[2.7626588]], dtype=float32)>],\n",
       " [<tf.Tensor: shape=(1, 1), dtype=float32, numpy=array([[-18.54628]], dtype=float32)>],\n",
       " [<tf.Tensor: shape=(1, 1), dtype=float32, numpy=array([[6.2390113]], dtype=float32)>],\n",
       " [<tf.Tensor: shape=(1, 1), dtype=float32, numpy=array([[11.453113]], dtype=float32)>],\n",
       " [<tf.Tensor: shape=(1, 1), dtype=float32, numpy=array([[10.371904]], dtype=float32)>],\n",
       " [<tf.Tensor: shape=(1, 1), dtype=float32, numpy=array([[18.86639]], dtype=float32)>],\n",
       " [<tf.Tensor: shape=(1, 1), dtype=float32, numpy=array([[-1.1169829]], dtype=float32)>],\n",
       " [<tf.Tensor: shape=(1, 1), dtype=float32, numpy=array([[-3.6210134]], dtype=float32)>],\n",
       " [<tf.Tensor: shape=(1, 1), dtype=float32, numpy=array([[1.4867505]], dtype=float32)>],\n",
       " [<tf.Tensor: shape=(1, 1), dtype=float32, numpy=array([[-4.3778315]], dtype=float32)>]]"
      ]
     },
     "execution_count": 1,
     "metadata": {},
     "output_type": "execute_result"
    }
   ],
   "source": [
    "def representative_data_gen():\n",
    "    for x in data:\n",
    "        yield [x]\n",
    "        \n",
    "list(representative_data_gen())"
   ]
  },
  {
   "cell_type": "markdown",
   "metadata": {},
   "source": [
    "## Convert concrete function to pure TFLite-uint8"
   ]
  },
  {
   "cell_type": "code",
   "execution_count": 21,
   "metadata": {
    "execution": {
     "iopub.execute_input": "2020-11-27T16:10:16.934286Z",
     "iopub.status.busy": "2020-11-27T16:10:16.933649Z",
     "iopub.status.idle": "2020-11-27T16:10:16.950832Z",
     "shell.execute_reply": "2020-11-27T16:10:16.950552Z"
    }
   },
   "outputs": [],
   "source": [
    "converter = tf.lite.TFLiteConverter.from_concrete_functions([cf])\n",
    "\n",
    "converter.experimental_new_converter = True\n",
    "converter.target_spec.supported_ops  = [tf.lite.OpsSet.TFLITE_BUILTINS_INT8]\n",
    "\n",
    "converter.inference_input_type  = tf.uint8\n",
    "converter.inference_output_type = tf.uint8\n",
    "\n",
    "converter.representative_dataset = representative_data_gen\n",
    "\n",
    "model_int_lite = converter.convert()"
   ]
  },
  {
   "cell_type": "markdown",
   "metadata": {},
   "source": [
    "## Run pure uint8-model on CPU with uint8-IO"
   ]
  },
  {
   "cell_type": "code",
   "execution_count": 22,
   "metadata": {
    "execution": {
     "iopub.execute_input": "2020-11-27T16:10:16.954763Z",
     "iopub.status.busy": "2020-11-27T16:10:16.954439Z",
     "iopub.status.idle": "2020-11-27T16:10:16.958781Z",
     "shell.execute_reply": "2020-11-27T16:10:16.958449Z"
    }
   },
   "outputs": [
    {
     "data": {
      "text/plain": [
       "[<tf.Tensor: shape=(1, 1), dtype=uint8, numpy=array([[145]], dtype=uint8)>,\n",
       " <tf.Tensor: shape=(1, 1), dtype=uint8, numpy=array([[0]], dtype=uint8)>,\n",
       " <tf.Tensor: shape=(1, 1), dtype=uint8, numpy=array([[169]], dtype=uint8)>,\n",
       " <tf.Tensor: shape=(1, 1), dtype=uint8, numpy=array([[204]], dtype=uint8)>,\n",
       " <tf.Tensor: shape=(1, 1), dtype=uint8, numpy=array([[197]], dtype=uint8)>,\n",
       " <tf.Tensor: shape=(1, 1), dtype=uint8, numpy=array([[255]], dtype=uint8)>,\n",
       " <tf.Tensor: shape=(1, 1), dtype=uint8, numpy=array([[118]], dtype=uint8)>,\n",
       " <tf.Tensor: shape=(1, 1), dtype=uint8, numpy=array([[101]], dtype=uint8)>,\n",
       " <tf.Tensor: shape=(1, 1), dtype=uint8, numpy=array([[136]], dtype=uint8)>,\n",
       " <tf.Tensor: shape=(1, 1), dtype=uint8, numpy=array([[96]], dtype=uint8)>]"
      ]
     },
     "execution_count": 1,
     "metadata": {},
     "output_type": "execute_result"
    }
   ],
   "source": [
    "interpreter = tf.lite.Interpreter(model_content=model_int_lite)\n",
    "\n",
    "x8 = toUint8(interpreter, data)\n",
    "x8"
   ]
  },
  {
   "cell_type": "code",
   "execution_count": 23,
   "metadata": {
    "execution": {
     "iopub.execute_input": "2020-11-27T16:10:16.961218Z",
     "iopub.status.busy": "2020-11-27T16:10:16.960874Z",
     "iopub.status.idle": "2020-11-27T16:10:16.963374Z",
     "shell.execute_reply": "2020-11-27T16:10:16.963627Z"
    }
   },
   "outputs": [
    {
     "data": {
      "text/plain": [
       "[<tf.Tensor: shape=(1, 1), dtype=uint8, numpy=array([[124]], dtype=uint8)>,\n",
       " <tf.Tensor: shape=(1, 1), dtype=uint8, numpy=array([[1]], dtype=uint8)>,\n",
       " <tf.Tensor: shape=(1, 1), dtype=uint8, numpy=array([[129]], dtype=uint8)>,\n",
       " <tf.Tensor: shape=(1, 1), dtype=uint8, numpy=array([[153]], dtype=uint8)>,\n",
       " <tf.Tensor: shape=(1, 1), dtype=uint8, numpy=array([[146]], dtype=uint8)>,\n",
       " <tf.Tensor: shape=(1, 1), dtype=uint8, numpy=array([[255]], dtype=uint8)>,\n",
       " <tf.Tensor: shape=(1, 1), dtype=uint8, numpy=array([[124]], dtype=uint8)>,\n",
       " <tf.Tensor: shape=(1, 1), dtype=uint8, numpy=array([[123]], dtype=uint8)>,\n",
       " <tf.Tensor: shape=(1, 1), dtype=uint8, numpy=array([[124]], dtype=uint8)>,\n",
       " <tf.Tensor: shape=(1, 1), dtype=uint8, numpy=array([[122]], dtype=uint8)>]"
      ]
     },
     "execution_count": 1,
     "metadata": {},
     "output_type": "execute_result"
    }
   ],
   "source": [
    "y8 = run(interpreter, x8)\n",
    "y8"
   ]
  },
  {
   "cell_type": "markdown",
   "metadata": {},
   "source": [
    "## Run pure uint8-model on CPU with hand made float-IO"
   ]
  },
  {
   "cell_type": "code",
   "execution_count": 24,
   "metadata": {
    "execution": {
     "iopub.execute_input": "2020-11-27T16:10:16.965771Z",
     "iopub.status.busy": "2020-11-27T16:10:16.965451Z",
     "iopub.status.idle": "2020-11-27T16:10:16.970005Z",
     "shell.execute_reply": "2020-11-27T16:10:16.970256Z"
    }
   },
   "outputs": [
    {
     "data": {
      "text/plain": [
       "[<tf.Tensor: shape=(1, 1), dtype=float32, numpy=array([[0.]], dtype=float32)>,\n",
       " <tf.Tensor: shape=(1, 1), dtype=float32, numpy=array([[-6316.2085]], dtype=float32)>,\n",
       " <tf.Tensor: shape=(1, 1), dtype=float32, numpy=array([[256.75644]], dtype=float32)>,\n",
       " <tf.Tensor: shape=(1, 1), dtype=float32, numpy=array([[1489.1874]], dtype=float32)>,\n",
       " <tf.Tensor: shape=(1, 1), dtype=float32, numpy=array([[1129.7283]], dtype=float32)>,\n",
       " <tf.Tensor: shape=(1, 1), dtype=float32, numpy=array([[6727.0186]], dtype=float32)>,\n",
       " <tf.Tensor: shape=(1, 1), dtype=float32, numpy=array([[0.]], dtype=float32)>,\n",
       " <tf.Tensor: shape=(1, 1), dtype=float32, numpy=array([[-51.351288]], dtype=float32)>,\n",
       " <tf.Tensor: shape=(1, 1), dtype=float32, numpy=array([[0.]], dtype=float32)>,\n",
       " <tf.Tensor: shape=(1, 1), dtype=float32, numpy=array([[-102.702576]], dtype=float32)>]"
      ]
     },
     "execution_count": 1,
     "metadata": {},
     "output_type": "execute_result"
    }
   ],
   "source": [
    "runUint8(interpreter, data)"
   ]
  },
  {
   "cell_type": "markdown",
   "metadata": {},
   "source": [
    "## Write pure uint8-model to file and compile it for TPU"
   ]
  },
  {
   "cell_type": "code",
   "execution_count": 25,
   "metadata": {
    "execution": {
     "iopub.execute_input": "2020-11-27T16:10:16.972346Z",
     "iopub.status.busy": "2020-11-27T16:10:16.972019Z",
     "iopub.status.idle": "2020-11-27T16:10:16.973416Z",
     "shell.execute_reply": "2020-11-27T16:10:16.973669Z"
    }
   },
   "outputs": [],
   "source": [
    "with open('model_int.tflite', 'wb') as f:\n",
    "    f.write(model_int_lite)"
   ]
  },
  {
   "cell_type": "code",
   "execution_count": 26,
   "metadata": {
    "execution": {
     "iopub.execute_input": "2020-11-27T16:10:16.978540Z",
     "iopub.status.busy": "2020-11-27T16:10:16.978214Z",
     "iopub.status.idle": "2020-11-27T16:10:17.105070Z",
     "shell.execute_reply": "2020-11-27T16:10:17.105434Z"
    }
   },
   "outputs": [
    {
     "name": "stdout",
     "output_type": "stream",
     "text": [
      "Edge TPU Compiler version 15.0.340273435\r\n",
      "\r\n",
      "Model compiled successfully in 12 ms.\r\n",
      "\r\n",
      "Input model: model_int.tflite\r\n",
      "Input size: 1.47KiB\r\n",
      "Output model: model_int_edgetpu.tflite\r\n",
      "Output size: 24.49KiB\r\n",
      "On-chip memory used for caching model parameters: 0.00B\r\n",
      "On-chip memory remaining for caching model parameters: 8.09MiB\r\n",
      "Off-chip memory used for streaming uncached model parameters: 0.00B\r\n",
      "Number of Edge TPU subgraphs: 1\r\n",
      "Total number of operations: 5\r\n",
      "Operation log: model_int_edgetpu.log\r\n",
      "See the operation log file for individual operation details.\r\n"
     ]
    }
   ],
   "source": [
    "! edgetpu_compiler model_int.tflite"
   ]
  },
  {
   "cell_type": "code",
   "execution_count": 27,
   "metadata": {
    "execution": {
     "iopub.execute_input": "2020-11-27T16:10:17.108196Z",
     "iopub.status.busy": "2020-11-27T16:10:17.107834Z",
     "iopub.status.idle": "2020-11-27T16:10:17.225438Z",
     "shell.execute_reply": "2020-11-27T16:10:17.223964Z"
    },
    "scrolled": true
   },
   "outputs": [
    {
     "name": "stdout",
     "output_type": "stream",
     "text": [
      "-rw-rw-r-- 1 mre mre 25080 Nov 27 17:10 model_int_edgetpu.tflite\r\n",
      "-rw-rw-r-- 1 mre mre 25336 Nov 27 17:10 model_int_fio_edgetpu.tflite\r\n",
      "-rw-rw-r-- 1 mre mre  1440 Nov 27 17:10 model_int_fio.tflite\r\n",
      "-rw-rw-r-- 1 mre mre  1504 Nov 27 17:10 model_int.tflite\r\n"
     ]
    }
   ],
   "source": [
    "! ls -l model_int*.tflite"
   ]
  },
  {
   "cell_type": "markdown",
   "metadata": {},
   "source": [
    "## Run pure uint8-model on TPU with uint8-IO"
   ]
  },
  {
   "cell_type": "code",
   "execution_count": 28,
   "metadata": {
    "execution": {
     "iopub.execute_input": "2020-11-27T16:10:17.255899Z",
     "iopub.status.busy": "2020-11-27T16:10:17.254698Z",
     "iopub.status.idle": "2020-11-27T16:10:17.273957Z",
     "shell.execute_reply": "2020-11-27T16:10:17.272731Z"
    }
   },
   "outputs": [
    {
     "data": {
      "text/plain": [
       "[<tf.Tensor: shape=(1, 1), dtype=uint8, numpy=array([[124]], dtype=uint8)>,\n",
       " <tf.Tensor: shape=(1, 1), dtype=uint8, numpy=array([[1]], dtype=uint8)>,\n",
       " <tf.Tensor: shape=(1, 1), dtype=uint8, numpy=array([[129]], dtype=uint8)>,\n",
       " <tf.Tensor: shape=(1, 1), dtype=uint8, numpy=array([[153]], dtype=uint8)>,\n",
       " <tf.Tensor: shape=(1, 1), dtype=uint8, numpy=array([[146]], dtype=uint8)>,\n",
       " <tf.Tensor: shape=(1, 1), dtype=uint8, numpy=array([[255]], dtype=uint8)>,\n",
       " <tf.Tensor: shape=(1, 1), dtype=uint8, numpy=array([[124]], dtype=uint8)>,\n",
       " <tf.Tensor: shape=(1, 1), dtype=uint8, numpy=array([[123]], dtype=uint8)>,\n",
       " <tf.Tensor: shape=(1, 1), dtype=uint8, numpy=array([[124]], dtype=uint8)>,\n",
       " <tf.Tensor: shape=(1, 1), dtype=uint8, numpy=array([[122]], dtype=uint8)>]"
      ]
     },
     "execution_count": 1,
     "metadata": {},
     "output_type": "execute_result"
    }
   ],
   "source": [
    "interpreter = make_interpreter(\"model_int_edgetpu.tflite\")\n",
    "\n",
    "run(interpreter, toUint8(interpreter, data))"
   ]
  },
  {
   "cell_type": "markdown",
   "metadata": {},
   "source": [
    "## Run pure uint8-model on CPU with hand made float-IO"
   ]
  },
  {
   "cell_type": "code",
   "execution_count": 29,
   "metadata": {
    "execution": {
     "iopub.execute_input": "2020-11-27T16:10:17.281861Z",
     "iopub.status.busy": "2020-11-27T16:10:17.280680Z",
     "iopub.status.idle": "2020-11-27T16:10:17.300858Z",
     "shell.execute_reply": "2020-11-27T16:10:17.299957Z"
    }
   },
   "outputs": [
    {
     "data": {
      "text/plain": [
       "[<tf.Tensor: shape=(1, 1), dtype=float32, numpy=array([[0.]], dtype=float32)>,\n",
       " <tf.Tensor: shape=(1, 1), dtype=float32, numpy=array([[-6316.2085]], dtype=float32)>,\n",
       " <tf.Tensor: shape=(1, 1), dtype=float32, numpy=array([[256.75644]], dtype=float32)>,\n",
       " <tf.Tensor: shape=(1, 1), dtype=float32, numpy=array([[1489.1874]], dtype=float32)>,\n",
       " <tf.Tensor: shape=(1, 1), dtype=float32, numpy=array([[1129.7283]], dtype=float32)>,\n",
       " <tf.Tensor: shape=(1, 1), dtype=float32, numpy=array([[6727.0186]], dtype=float32)>,\n",
       " <tf.Tensor: shape=(1, 1), dtype=float32, numpy=array([[0.]], dtype=float32)>,\n",
       " <tf.Tensor: shape=(1, 1), dtype=float32, numpy=array([[-51.351288]], dtype=float32)>,\n",
       " <tf.Tensor: shape=(1, 1), dtype=float32, numpy=array([[0.]], dtype=float32)>,\n",
       " <tf.Tensor: shape=(1, 1), dtype=float32, numpy=array([[-102.702576]], dtype=float32)>]"
      ]
     },
     "execution_count": 1,
     "metadata": {},
     "output_type": "execute_result"
    }
   ],
   "source": [
    "runUint8(interpreter, data)"
   ]
  }
 ],
 "metadata": {
  "hide_input": false,
  "kernelspec": {
   "display_name": "Python 3",
   "language": "python",
   "name": "python3"
  },
  "language_info": {
   "codemirror_mode": {
    "name": "ipython",
    "version": 3
   },
   "file_extension": ".py",
   "mimetype": "text/x-python",
   "name": "python",
   "nbconvert_exporter": "python",
   "pygments_lexer": "ipython3",
   "version": "3.8.5"
  },
  "latex_envs": {
   "LaTeX_envs_menu_present": true,
   "autocomplete": true,
   "bibliofile": "biblio.bib",
   "cite_by": "apalike",
   "current_citInitial": 1,
   "eqLabelWithNumbers": true,
   "eqNumInitial": 1,
   "hotkeys": {
    "equation": "Ctrl-E",
    "itemize": "Ctrl-I"
   },
   "labels_anchors": false,
   "latex_user_defs": false,
   "report_style_numbering": false,
   "user_envs_cfg": false
  },
  "nbTranslate": {
   "displayLangs": [
    "fr",
    "en"
   ],
   "hotkey": "alt-t",
   "langInMainMenu": false,
   "sourceLang": "en",
   "targetLang": "fr",
   "useGoogleTranslate": true
  }
 },
 "nbformat": 4,
 "nbformat_minor": 2
}
