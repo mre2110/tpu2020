{
 "cells": [
  {
   "cell_type": "code",
   "execution_count": 1,
   "metadata": {
    "code_folding": [],
    "execution": {
     "iopub.execute_input": "2020-11-25T10:26:18.274440Z",
     "iopub.status.busy": "2020-11-25T10:26:18.274144Z",
     "iopub.status.idle": "2020-11-25T10:26:19.011214Z",
     "shell.execute_reply": "2020-11-25T10:26:19.011621Z"
    }
   },
   "outputs": [],
   "source": [
    "# mre 2020-11-25\n",
    "\n",
    "import numpy as np\n",
    "\n",
    "import os\n",
    "os.environ[\"CUDA_VISIBLE_DEVICES\"] = \"-1\" \n",
    "\n",
    "import tensorflow as tf"
   ]
  },
  {
   "cell_type": "markdown",
   "metadata": {},
   "source": [
    "# Helper for running interpreter"
   ]
  },
  {
   "cell_type": "code",
   "execution_count": 2,
   "metadata": {
    "execution": {
     "iopub.execute_input": "2020-11-25T10:26:19.016017Z",
     "iopub.status.busy": "2020-11-25T10:26:19.015721Z",
     "iopub.status.idle": "2020-11-25T10:26:19.017090Z",
     "shell.execute_reply": "2020-11-25T10:26:19.017344Z"
    }
   },
   "outputs": [],
   "source": [
    "# run interpreter on random input\n",
    "def test(interpreter):\n",
    "    interpreter.allocate_tensors()\n",
    "\n",
    "    input_details  = interpreter.get_input_details()\n",
    "    output_details = interpreter.get_output_details()\n",
    "\n",
    "    input_shape = input_details[0]['shape']\n",
    "    input_data  = np.array(np.random.random_sample(input_shape), dtype=np.float32)\n",
    "    interpreter.set_tensor(input_details[0]['index'], input_data)\n",
    "\n",
    "    interpreter.invoke()\n",
    "    \n",
    "    output_data = interpreter.get_tensor(output_details[0]['index'])\n",
    "    return output_data\n",
    "\n",
    "\n",
    "# run interpreter on real dataset data\n",
    "def run(interpreter, data):\n",
    "    interpreter.allocate_tensors()\n",
    "\n",
    "    input_index  = interpreter.get_input_details()[0][\"index\"]\n",
    "    output_index = interpreter.get_output_details()[0][\"index\"]\n",
    "\n",
    "    y = []\n",
    "    for i, x in enumerate(data):\n",
    "        tx = tf.constant(x, shape=(1,1))\n",
    "\n",
    "        interpreter.set_tensor(input_index, tx)\n",
    "        interpreter.invoke()\n",
    "        output = interpreter.tensor(output_index)\n",
    "\n",
    "        y.append(output()[0][0])\n",
    " \n",
    "    return np.array(y)"
   ]
  },
  {
   "cell_type": "markdown",
   "metadata": {},
   "source": [
    "# Helper uint8"
   ]
  },
  {
   "cell_type": "code",
   "execution_count": 3,
   "metadata": {
    "execution": {
     "iopub.execute_input": "2020-11-25T10:26:19.020365Z",
     "iopub.status.busy": "2020-11-25T10:26:19.020043Z",
     "iopub.status.idle": "2020-11-25T10:26:19.021848Z",
     "shell.execute_reply": "2020-11-25T10:26:19.021557Z"
    }
   },
   "outputs": [],
   "source": [
    "# convert float to uint8\n",
    "def toUint8(interpreter, xx):\n",
    "    s, c =interpreter.get_input_details()[0]['quantization']\n",
    "    x8 = [np.uint8(np.round(x/s + c)) for x in data]\n",
    "    return x8\n",
    "\n",
    "\n",
    "# run uint8-Model with hand-made IO-conversion\n",
    "def runUint8(interpreter, x):\n",
    "    \"\"\"\n",
    "    x -> uint8-input -> interpreter -> uint8-output -> float\n",
    "    \"\"\"\n",
    "\n",
    "    x8 = toUint8(interpreter, x)\n",
    "    y8 = np.array(run(interpreter, x8))\n",
    "    \n",
    "    s, c = interpreter.get_output_details()[0]['quantization']\n",
    "    y = s * (np.float32(y8) - c)\n",
    "    \n",
    "    return y "
   ]
  },
  {
   "cell_type": "markdown",
   "metadata": {},
   "source": [
    "# Helper for TPU execution"
   ]
  },
  {
   "cell_type": "code",
   "execution_count": 4,
   "metadata": {
    "execution": {
     "iopub.execute_input": "2020-11-25T10:26:19.024529Z",
     "iopub.status.busy": "2020-11-25T10:26:19.024221Z",
     "iopub.status.idle": "2020-11-25T10:26:19.026292Z",
     "shell.execute_reply": "2020-11-25T10:26:19.026515Z"
    }
   },
   "outputs": [],
   "source": [
    "import platform\n",
    "import tflite_runtime.interpreter as tflite\n",
    "\n",
    "EDGETPU_SHARED_LIB = {\n",
    "  'Linux': 'libedgetpu.so.1',\n",
    "  'Darwin': 'libedgetpu.1.dylib',\n",
    "  'Windows': 'edgetpu.dll'\n",
    "}[platform.system()]\n",
    "\n",
    "\n",
    "def make_interpreter(model_file):\n",
    "  model_file, *device = model_file.split('@')\n",
    "  return tflite.Interpreter(\n",
    "      model_path=model_file,\n",
    "      experimental_delegates=[\n",
    "          tflite.load_delegate(EDGETPU_SHARED_LIB,\n",
    "                               {'device': device[0]} if device else {})\n",
    "      ])"
   ]
  },
  {
   "cell_type": "markdown",
   "metadata": {},
   "source": [
    "# Definition of (concrete) function and data"
   ]
  },
  {
   "cell_type": "code",
   "execution_count": 5,
   "metadata": {
    "execution": {
     "iopub.execute_input": "2020-11-25T10:26:19.059282Z",
     "iopub.status.busy": "2020-11-25T10:26:19.053244Z",
     "iopub.status.idle": "2020-11-25T10:26:19.100821Z",
     "shell.execute_reply": "2020-11-25T10:26:19.100502Z"
    }
   },
   "outputs": [
    {
     "data": {
      "text/plain": [
       "<tf.Tensor: shape=(2, 2), dtype=float32, numpy=\n",
       "array([[2., 2.],\n",
       "       [2., 2.]], dtype=float32)>"
      ]
     },
     "execution_count": 1,
     "metadata": {},
     "output_type": "execute_result"
    }
   ],
   "source": [
    "@tf.function\n",
    "def cf(a):\n",
    "  return a*a*a + 1\n",
    "\n",
    "cf(tf.ones([2, 2]))"
   ]
  },
  {
   "cell_type": "code",
   "execution_count": 6,
   "metadata": {
    "execution": {
     "iopub.execute_input": "2020-11-25T10:26:19.104390Z",
     "iopub.status.busy": "2020-11-25T10:26:19.104027Z",
     "iopub.status.idle": "2020-11-25T10:26:19.106063Z",
     "shell.execute_reply": "2020-11-25T10:26:19.105769Z"
    }
   },
   "outputs": [
    {
     "data": {
      "text/plain": [
       "[array([2.7626588], dtype=float32),\n",
       " array([-18.54628], dtype=float32),\n",
       " array([6.2390113], dtype=float32),\n",
       " array([11.453113], dtype=float32),\n",
       " array([10.371904], dtype=float32),\n",
       " array([18.86639], dtype=float32),\n",
       " array([-1.1169829], dtype=float32),\n",
       " array([-3.6210134], dtype=float32),\n",
       " array([1.4867505], dtype=float32),\n",
       " array([-4.3778315], dtype=float32)]"
      ]
     },
     "execution_count": 1,
     "metadata": {},
     "output_type": "execute_result"
    }
   ],
   "source": [
    "nx = 10\n",
    "\n",
    "## dataset for debugging\n",
    "#xx = np.arange(nx) - nx/2\n",
    "#data = [np.array([x], dtype=np.float32) for x in xx]\n",
    "\n",
    "# dataset chosen so that quantization errors are obvious\n",
    "np.random.seed(17)\n",
    "data = [np.array([10*x], dtype=np.float32) for x in np.random.randn(nx)]\n",
    "\n",
    "data"
   ]
  },
  {
   "cell_type": "code",
   "execution_count": 7,
   "metadata": {
    "execution": {
     "iopub.execute_input": "2020-11-25T10:26:19.110068Z",
     "iopub.status.busy": "2020-11-25T10:26:19.109062Z",
     "iopub.status.idle": "2020-11-25T10:26:19.118521Z",
     "shell.execute_reply": "2020-11-25T10:26:19.118758Z"
    }
   },
   "outputs": [
    {
     "data": {
      "text/plain": [
       "[<tf.Tensor: shape=(1,), dtype=float32, numpy=array([22.085396], dtype=float32)>,\n",
       " <tf.Tensor: shape=(1,), dtype=float32, numpy=array([-6378.262], dtype=float32)>,\n",
       " <tf.Tensor: shape=(1,), dtype=float32, numpy=array([243.85515], dtype=float32)>,\n",
       " <tf.Tensor: shape=(1,), dtype=float32, numpy=array([1503.3481], dtype=float32)>,\n",
       " <tf.Tensor: shape=(1,), dtype=float32, numpy=array([1116.7721], dtype=float32)>,\n",
       " <tf.Tensor: shape=(1,), dtype=float32, numpy=array([6716.3154], dtype=float32)>,\n",
       " <tf.Tensor: shape=(1,), dtype=float32, numpy=array([-0.39360476], dtype=float32)>,\n",
       " <tf.Tensor: shape=(1,), dtype=float32, numpy=array([-46.47778], dtype=float32)>,\n",
       " <tf.Tensor: shape=(1,), dtype=float32, numpy=array([4.2863536], dtype=float32)>,\n",
       " <tf.Tensor: shape=(1,), dtype=float32, numpy=array([-82.90293], dtype=float32)>]"
      ]
     },
     "execution_count": 1,
     "metadata": {},
     "output_type": "execute_result"
    }
   ],
   "source": [
    "list(map(cf, data))"
   ]
  },
  {
   "cell_type": "markdown",
   "metadata": {},
   "source": [
    "# Conversion to TFLite"
   ]
  },
  {
   "cell_type": "markdown",
   "metadata": {},
   "source": [
    "## Convert concrete function to TFLite"
   ]
  },
  {
   "cell_type": "code",
   "execution_count": 8,
   "metadata": {
    "execution": {
     "iopub.execute_input": "2020-11-25T10:26:19.123104Z",
     "iopub.status.busy": "2020-11-25T10:26:19.122807Z",
     "iopub.status.idle": "2020-11-25T10:26:19.138584Z",
     "shell.execute_reply": "2020-11-25T10:26:19.138261Z"
    }
   },
   "outputs": [],
   "source": [
    "converter = tf.lite.TFLiteConverter.from_concrete_functions([cf.get_concrete_function(tf.ones([1,1]))])\n",
    "\n",
    "model_lite = converter.convert()"
   ]
  },
  {
   "cell_type": "markdown",
   "metadata": {},
   "source": [
    "## Execution on CPU with random input"
   ]
  },
  {
   "cell_type": "code",
   "execution_count": 9,
   "metadata": {
    "execution": {
     "iopub.execute_input": "2020-11-25T10:26:19.141602Z",
     "iopub.status.busy": "2020-11-25T10:26:19.141256Z",
     "iopub.status.idle": "2020-11-25T10:26:19.143619Z",
     "shell.execute_reply": "2020-11-25T10:26:19.143355Z"
    }
   },
   "outputs": [
    {
     "data": {
      "text/plain": [
       "array([[1.1679695]], dtype=float32)"
      ]
     },
     "execution_count": 1,
     "metadata": {},
     "output_type": "execute_result"
    }
   ],
   "source": [
    "interpreter = tf.lite.Interpreter(model_content=model_lite)\n",
    "\n",
    "test(interpreter)"
   ]
  },
  {
   "cell_type": "markdown",
   "metadata": {},
   "source": [
    "## Execution on CPU with own input"
   ]
  },
  {
   "cell_type": "code",
   "execution_count": 10,
   "metadata": {
    "execution": {
     "iopub.execute_input": "2020-11-25T10:26:19.146428Z",
     "iopub.status.busy": "2020-11-25T10:26:19.145964Z",
     "iopub.status.idle": "2020-11-25T10:26:19.148258Z",
     "shell.execute_reply": "2020-11-25T10:26:19.148506Z"
    }
   },
   "outputs": [
    {
     "data": {
      "text/plain": [
       "array([ 2.2085396e+01, -6.3782622e+03,  2.4385515e+02,  1.5033481e+03,\n",
       "        1.1167721e+03,  6.7163154e+03, -3.9360476e-01, -4.6477779e+01,\n",
       "        4.2863536e+00, -8.2902931e+01], dtype=float32)"
      ]
     },
     "execution_count": 1,
     "metadata": {},
     "output_type": "execute_result"
    }
   ],
   "source": [
    "run(interpreter, data)"
   ]
  },
  {
   "cell_type": "markdown",
   "metadata": {},
   "source": [
    "# Conversion to TFLite-uint8 with float32-IO-layers"
   ]
  },
  {
   "cell_type": "markdown",
   "metadata": {},
   "source": [
    "## Representative data for quantization"
   ]
  },
  {
   "cell_type": "code",
   "execution_count": 11,
   "metadata": {
    "execution": {
     "iopub.execute_input": "2020-11-25T10:26:19.152001Z",
     "iopub.status.busy": "2020-11-25T10:26:19.151514Z",
     "iopub.status.idle": "2020-11-25T10:26:19.154390Z",
     "shell.execute_reply": "2020-11-25T10:26:19.154083Z"
    }
   },
   "outputs": [
    {
     "data": {
      "text/plain": [
       "[[<tf.Tensor: shape=(1,), dtype=float32, numpy=array([2.7626588], dtype=float32)>],\n",
       " [<tf.Tensor: shape=(1,), dtype=float32, numpy=array([-18.54628], dtype=float32)>],\n",
       " [<tf.Tensor: shape=(1,), dtype=float32, numpy=array([6.2390113], dtype=float32)>],\n",
       " [<tf.Tensor: shape=(1,), dtype=float32, numpy=array([11.453113], dtype=float32)>],\n",
       " [<tf.Tensor: shape=(1,), dtype=float32, numpy=array([10.371904], dtype=float32)>],\n",
       " [<tf.Tensor: shape=(1,), dtype=float32, numpy=array([18.86639], dtype=float32)>],\n",
       " [<tf.Tensor: shape=(1,), dtype=float32, numpy=array([-1.1169829], dtype=float32)>],\n",
       " [<tf.Tensor: shape=(1,), dtype=float32, numpy=array([-3.6210134], dtype=float32)>],\n",
       " [<tf.Tensor: shape=(1,), dtype=float32, numpy=array([1.4867505], dtype=float32)>],\n",
       " [<tf.Tensor: shape=(1,), dtype=float32, numpy=array([-4.3778315], dtype=float32)>]]"
      ]
     },
     "execution_count": 1,
     "metadata": {},
     "output_type": "execute_result"
    }
   ],
   "source": [
    "def representative_data_gen():\n",
    "    for x in data:\n",
    "        yield [tf.cast(x, tf.float32)]\n",
    "        \n",
    "list(representative_data_gen())"
   ]
  },
  {
   "cell_type": "markdown",
   "metadata": {},
   "source": [
    "## Convert concrete function to TFLite-uint8 with float32-IO-layers"
   ]
  },
  {
   "cell_type": "code",
   "execution_count": 12,
   "metadata": {
    "execution": {
     "iopub.execute_input": "2020-11-25T10:26:19.159674Z",
     "iopub.status.busy": "2020-11-25T10:26:19.159252Z",
     "iopub.status.idle": "2020-11-25T10:26:19.171587Z",
     "shell.execute_reply": "2020-11-25T10:26:19.171266Z"
    }
   },
   "outputs": [],
   "source": [
    "converter = tf.lite.TFLiteConverter.from_concrete_functions([cf.get_concrete_function(tf.ones([1,1]))])\n",
    "\n",
    "converter.experimental_new_converter = True\n",
    "converter.target_spec.supported_ops  = [tf.lite.OpsSet.TFLITE_BUILTINS_INT8]\n",
    "\n",
    "converter.inference_input_type  = tf.float32\n",
    "converter.inference_output_type = tf.float32\n",
    "\n",
    "converter.representative_dataset = representative_data_gen\n",
    "\n",
    "model_int_fio_lite = converter.convert()"
   ]
  },
  {
   "cell_type": "markdown",
   "metadata": {},
   "source": [
    "## Run on CPU"
   ]
  },
  {
   "cell_type": "code",
   "execution_count": 13,
   "metadata": {
    "execution": {
     "iopub.execute_input": "2020-11-25T10:26:19.174119Z",
     "iopub.status.busy": "2020-11-25T10:26:19.173818Z",
     "iopub.status.idle": "2020-11-25T10:26:19.176104Z",
     "shell.execute_reply": "2020-11-25T10:26:19.176339Z"
    }
   },
   "outputs": [
    {
     "data": {
      "text/plain": [
       "array([    0.      , -6316.2085  ,   256.75644 ,  1489.1874  ,\n",
       "        1129.7283  ,  6727.0186  ,     0.      ,   -51.351288,\n",
       "           0.      ,  -102.702576], dtype=float32)"
      ]
     },
     "execution_count": 1,
     "metadata": {},
     "output_type": "execute_result"
    }
   ],
   "source": [
    "interpreter = tf.lite.Interpreter(model_content=model_int_fio_lite)\n",
    "\n",
    "run(interpreter, data)"
   ]
  },
  {
   "cell_type": "markdown",
   "metadata": {},
   "source": [
    "## Write model to file and compile it for TPU"
   ]
  },
  {
   "cell_type": "code",
   "execution_count": 14,
   "metadata": {
    "execution": {
     "iopub.execute_input": "2020-11-25T10:26:19.178620Z",
     "iopub.status.busy": "2020-11-25T10:26:19.178160Z",
     "iopub.status.idle": "2020-11-25T10:26:19.179879Z",
     "shell.execute_reply": "2020-11-25T10:26:19.179573Z"
    }
   },
   "outputs": [],
   "source": [
    "with open('model_int_fio.tflite', 'wb') as f:\n",
    "    f.write(model_int_fio_lite)"
   ]
  },
  {
   "cell_type": "code",
   "execution_count": 15,
   "metadata": {
    "execution": {
     "iopub.execute_input": "2020-11-25T10:26:19.182310Z",
     "iopub.status.busy": "2020-11-25T10:26:19.182008Z",
     "iopub.status.idle": "2020-11-25T10:26:19.313265Z",
     "shell.execute_reply": "2020-11-25T10:26:19.311394Z"
    }
   },
   "outputs": [
    {
     "name": "stdout",
     "output_type": "stream",
     "text": [
      "Edge TPU Compiler version 15.0.340273435\r\n",
      "\r\n",
      "Model compiled successfully in 11 ms.\r\n",
      "\r\n",
      "Input model: model_int_fio.tflite\r\n",
      "Input size: 1.41KiB\r\n",
      "Output model: model_int_fio_edgetpu.tflite\r\n",
      "Output size: 24.74KiB\r\n",
      "On-chip memory used for caching model parameters: 0.00B\r\n",
      "On-chip memory remaining for caching model parameters: 8.09MiB\r\n",
      "Off-chip memory used for streaming uncached model parameters: 0.00B\r\n",
      "Number of Edge TPU subgraphs: 1\r\n",
      "Total number of operations: 5\r\n",
      "Operation log: model_int_fio_edgetpu.log\r\n",
      "\r\n",
      "Model successfully compiled but not all operations are supported by the Edge TPU. A percentage of the model will instead run on the CPU, which is slower. If possible, consider updating your model to use only operations supported by the Edge TPU. For details, visit g.co/coral/model-reqs.\r\n",
      "Number of operations that will run on Edge TPU: 3\r\n",
      "Number of operations that will run on CPU: 2\r\n",
      "See the operation log file for individual operation details.\r\n"
     ]
    }
   ],
   "source": [
    "! edgetpu_compiler model_int_fio.tflite"
   ]
  },
  {
   "cell_type": "code",
   "execution_count": 16,
   "metadata": {
    "execution": {
     "iopub.execute_input": "2020-11-25T10:26:19.323565Z",
     "iopub.status.busy": "2020-11-25T10:26:19.321637Z",
     "iopub.status.idle": "2020-11-25T10:26:19.445792Z",
     "shell.execute_reply": "2020-11-25T10:26:19.444393Z"
    }
   },
   "outputs": [
    {
     "name": "stdout",
     "output_type": "stream",
     "text": [
      "-rw-rw-r-- 1 mre mre 25336 Nov 25 11:26 model_int_fio_edgetpu.tflite\r\n",
      "-rw-rw-r-- 1 mre mre  1440 Nov 25 11:26 model_int_fio.tflite\r\n"
     ]
    }
   ],
   "source": [
    "! ls -l model_int_fio*.tflite"
   ]
  },
  {
   "cell_type": "markdown",
   "metadata": {},
   "source": [
    "## Run on TPU"
   ]
  },
  {
   "cell_type": "code",
   "execution_count": 17,
   "metadata": {
    "execution": {
     "iopub.execute_input": "2020-11-25T10:26:19.495957Z",
     "iopub.status.busy": "2020-11-25T10:26:19.494194Z",
     "iopub.status.idle": "2020-11-25T10:26:19.510004Z",
     "shell.execute_reply": "2020-11-25T10:26:19.508758Z"
    }
   },
   "outputs": [
    {
     "data": {
      "text/plain": [
       "array([    0.      , -6316.2085  ,   256.75644 ,  1489.1874  ,\n",
       "        1129.7283  ,  6727.0186  ,     0.      ,   -51.351288,\n",
       "           0.      ,  -102.702576], dtype=float32)"
      ]
     },
     "execution_count": 1,
     "metadata": {},
     "output_type": "execute_result"
    }
   ],
   "source": [
    "interpreter = make_interpreter(\"model_int_fio_edgetpu.tflite\")\n",
    "\n",
    "run(interpreter, data)"
   ]
  },
  {
   "cell_type": "markdown",
   "metadata": {},
   "source": [
    "# Conversion to pure TFLite-uint8"
   ]
  },
  {
   "cell_type": "markdown",
   "metadata": {},
   "source": [
    "## Representative data for quantization"
   ]
  },
  {
   "cell_type": "code",
   "execution_count": 18,
   "metadata": {
    "execution": {
     "iopub.execute_input": "2020-11-25T10:26:19.523211Z",
     "iopub.status.busy": "2020-11-25T10:26:19.522325Z",
     "iopub.status.idle": "2020-11-25T10:26:19.526236Z",
     "shell.execute_reply": "2020-11-25T10:26:19.525662Z"
    },
    "scrolled": true
   },
   "outputs": [
    {
     "data": {
      "text/plain": [
       "[[<tf.Tensor: shape=(1,), dtype=float32, numpy=array([2.7626588], dtype=float32)>],\n",
       " [<tf.Tensor: shape=(1,), dtype=float32, numpy=array([-18.54628], dtype=float32)>],\n",
       " [<tf.Tensor: shape=(1,), dtype=float32, numpy=array([6.2390113], dtype=float32)>],\n",
       " [<tf.Tensor: shape=(1,), dtype=float32, numpy=array([11.453113], dtype=float32)>],\n",
       " [<tf.Tensor: shape=(1,), dtype=float32, numpy=array([10.371904], dtype=float32)>],\n",
       " [<tf.Tensor: shape=(1,), dtype=float32, numpy=array([18.86639], dtype=float32)>],\n",
       " [<tf.Tensor: shape=(1,), dtype=float32, numpy=array([-1.1169829], dtype=float32)>],\n",
       " [<tf.Tensor: shape=(1,), dtype=float32, numpy=array([-3.6210134], dtype=float32)>],\n",
       " [<tf.Tensor: shape=(1,), dtype=float32, numpy=array([1.4867505], dtype=float32)>],\n",
       " [<tf.Tensor: shape=(1,), dtype=float32, numpy=array([-4.3778315], dtype=float32)>]]"
      ]
     },
     "execution_count": 1,
     "metadata": {},
     "output_type": "execute_result"
    }
   ],
   "source": [
    "def representative_data_gen():\n",
    "    for x in data:\n",
    "        yield [tf.cast(x, tf.float32)]\n",
    "        \n",
    "list(representative_data_gen())"
   ]
  },
  {
   "cell_type": "markdown",
   "metadata": {},
   "source": [
    "## Convert concrete function to pure TFLite-uint8"
   ]
  },
  {
   "cell_type": "code",
   "execution_count": 19,
   "metadata": {
    "execution": {
     "iopub.execute_input": "2020-11-25T10:26:19.538373Z",
     "iopub.status.busy": "2020-11-25T10:26:19.537219Z",
     "iopub.status.idle": "2020-11-25T10:26:19.553128Z",
     "shell.execute_reply": "2020-11-25T10:26:19.552717Z"
    }
   },
   "outputs": [],
   "source": [
    "converter = tf.lite.TFLiteConverter.from_concrete_functions([cf.get_concrete_function(tf.ones([1,1]))])\n",
    "\n",
    "converter.experimental_new_converter = True\n",
    "converter.target_spec.supported_ops  = [tf.lite.OpsSet.TFLITE_BUILTINS_INT8]\n",
    "\n",
    "converter.inference_input_type  = tf.uint8\n",
    "converter.inference_output_type = tf.uint8\n",
    "\n",
    "converter.representative_dataset = representative_data_gen\n",
    "\n",
    "model_int_lite = converter.convert()"
   ]
  },
  {
   "cell_type": "markdown",
   "metadata": {},
   "source": [
    "## Run pure uint8-model on CPU with uint8-IO"
   ]
  },
  {
   "cell_type": "code",
   "execution_count": 20,
   "metadata": {
    "execution": {
     "iopub.execute_input": "2020-11-25T10:26:19.557902Z",
     "iopub.status.busy": "2020-11-25T10:26:19.557557Z",
     "iopub.status.idle": "2020-11-25T10:26:19.559262Z",
     "shell.execute_reply": "2020-11-25T10:26:19.559544Z"
    }
   },
   "outputs": [
    {
     "data": {
      "text/plain": [
       "[array([145], dtype=uint8),\n",
       " array([0], dtype=uint8),\n",
       " array([169], dtype=uint8),\n",
       " array([204], dtype=uint8),\n",
       " array([197], dtype=uint8),\n",
       " array([255], dtype=uint8),\n",
       " array([118], dtype=uint8),\n",
       " array([101], dtype=uint8),\n",
       " array([136], dtype=uint8),\n",
       " array([96], dtype=uint8)]"
      ]
     },
     "execution_count": 1,
     "metadata": {},
     "output_type": "execute_result"
    }
   ],
   "source": [
    "interpreter = tf.lite.Interpreter(model_content=model_int_lite)\n",
    "\n",
    "x8 = toUint8(interpreter, data)\n",
    "x8"
   ]
  },
  {
   "cell_type": "code",
   "execution_count": 21,
   "metadata": {
    "execution": {
     "iopub.execute_input": "2020-11-25T10:26:19.561601Z",
     "iopub.status.busy": "2020-11-25T10:26:19.561276Z",
     "iopub.status.idle": "2020-11-25T10:26:19.564305Z",
     "shell.execute_reply": "2020-11-25T10:26:19.563915Z"
    }
   },
   "outputs": [
    {
     "data": {
      "text/plain": [
       "array([124,   1, 129, 153, 146, 255, 124, 123, 124, 122], dtype=uint8)"
      ]
     },
     "execution_count": 1,
     "metadata": {},
     "output_type": "execute_result"
    }
   ],
   "source": [
    "y8 = run(interpreter, x8)\n",
    "y8"
   ]
  },
  {
   "cell_type": "markdown",
   "metadata": {},
   "source": [
    "## Run pure uint8-model on CPU with hand made float-IO"
   ]
  },
  {
   "cell_type": "code",
   "execution_count": 22,
   "metadata": {
    "execution": {
     "iopub.execute_input": "2020-11-25T10:26:19.566690Z",
     "iopub.status.busy": "2020-11-25T10:26:19.566398Z",
     "iopub.status.idle": "2020-11-25T10:26:19.568929Z",
     "shell.execute_reply": "2020-11-25T10:26:19.569157Z"
    }
   },
   "outputs": [
    {
     "data": {
      "text/plain": [
       "array([    0.      , -6316.2085  ,   256.75644 ,  1489.1874  ,\n",
       "        1129.7283  ,  6727.0186  ,     0.      ,   -51.351288,\n",
       "           0.      ,  -102.702576], dtype=float32)"
      ]
     },
     "execution_count": 1,
     "metadata": {},
     "output_type": "execute_result"
    }
   ],
   "source": [
    "runUint8(interpreter, data)"
   ]
  },
  {
   "cell_type": "markdown",
   "metadata": {},
   "source": [
    "## Write pure uint8-model to file and compile it for TPU"
   ]
  },
  {
   "cell_type": "code",
   "execution_count": 23,
   "metadata": {
    "execution": {
     "iopub.execute_input": "2020-11-25T10:26:19.571443Z",
     "iopub.status.busy": "2020-11-25T10:26:19.570955Z",
     "iopub.status.idle": "2020-11-25T10:26:19.572879Z",
     "shell.execute_reply": "2020-11-25T10:26:19.572502Z"
    }
   },
   "outputs": [],
   "source": [
    "with open('model_int.tflite', 'wb') as f:\n",
    "    f.write(model_int_lite)"
   ]
  },
  {
   "cell_type": "code",
   "execution_count": 24,
   "metadata": {
    "execution": {
     "iopub.execute_input": "2020-11-25T10:26:19.577192Z",
     "iopub.status.busy": "2020-11-25T10:26:19.576894Z",
     "iopub.status.idle": "2020-11-25T10:26:19.703152Z",
     "shell.execute_reply": "2020-11-25T10:26:19.703432Z"
    }
   },
   "outputs": [
    {
     "name": "stdout",
     "output_type": "stream",
     "text": [
      "Edge TPU Compiler version 15.0.340273435\r\n",
      "\r\n",
      "Model compiled successfully in 12 ms.\r\n",
      "\r\n",
      "Input model: model_int.tflite\r\n",
      "Input size: 1.47KiB\r\n",
      "Output model: model_int_edgetpu.tflite\r\n",
      "Output size: 24.49KiB\r\n",
      "On-chip memory used for caching model parameters: 0.00B\r\n",
      "On-chip memory remaining for caching model parameters: 8.09MiB\r\n",
      "Off-chip memory used for streaming uncached model parameters: 0.00B\r\n",
      "Number of Edge TPU subgraphs: 1\r\n",
      "Total number of operations: 5\r\n",
      "Operation log: model_int_edgetpu.log\r\n",
      "See the operation log file for individual operation details.\r\n"
     ]
    }
   ],
   "source": [
    "! edgetpu_compiler model_int.tflite"
   ]
  },
  {
   "cell_type": "code",
   "execution_count": 25,
   "metadata": {
    "execution": {
     "iopub.execute_input": "2020-11-25T10:26:19.708975Z",
     "iopub.status.busy": "2020-11-25T10:26:19.708542Z",
     "iopub.status.idle": "2020-11-25T10:26:19.821480Z",
     "shell.execute_reply": "2020-11-25T10:26:19.820080Z"
    },
    "scrolled": true
   },
   "outputs": [
    {
     "name": "stdout",
     "output_type": "stream",
     "text": [
      "-rw-rw-r-- 1 mre mre 25080 Nov 25 11:26 model_int_edgetpu.tflite\r\n",
      "-rw-rw-r-- 1 mre mre 25336 Nov 25 11:26 model_int_fio_edgetpu.tflite\r\n",
      "-rw-rw-r-- 1 mre mre  1440 Nov 25 11:26 model_int_fio.tflite\r\n",
      "-rw-rw-r-- 1 mre mre  1504 Nov 25 11:26 model_int.tflite\r\n"
     ]
    }
   ],
   "source": [
    "! ls -l model_int*.tflite"
   ]
  },
  {
   "cell_type": "markdown",
   "metadata": {},
   "source": [
    "## Run pure uint8-model on TPU with uint8-IO"
   ]
  },
  {
   "cell_type": "code",
   "execution_count": 26,
   "metadata": {
    "execution": {
     "iopub.execute_input": "2020-11-25T10:26:19.851716Z",
     "iopub.status.busy": "2020-11-25T10:26:19.850507Z",
     "iopub.status.idle": "2020-11-25T10:26:19.861819Z",
     "shell.execute_reply": "2020-11-25T10:26:19.860913Z"
    }
   },
   "outputs": [
    {
     "data": {
      "text/plain": [
       "array([124,   1, 129, 153, 146, 255, 124, 123, 124, 122], dtype=uint8)"
      ]
     },
     "execution_count": 1,
     "metadata": {},
     "output_type": "execute_result"
    }
   ],
   "source": [
    "interpreter = make_interpreter(\"model_int_edgetpu.tflite\")\n",
    "\n",
    "run(interpreter, toUint8(interpreter, data))"
   ]
  },
  {
   "cell_type": "markdown",
   "metadata": {},
   "source": [
    "## Run pure uint8-model on CPU with hand made float-IO"
   ]
  },
  {
   "cell_type": "code",
   "execution_count": 27,
   "metadata": {
    "execution": {
     "iopub.execute_input": "2020-11-25T10:26:19.867485Z",
     "iopub.status.busy": "2020-11-25T10:26:19.866604Z",
     "iopub.status.idle": "2020-11-25T10:26:19.875540Z",
     "shell.execute_reply": "2020-11-25T10:26:19.874638Z"
    }
   },
   "outputs": [
    {
     "data": {
      "text/plain": [
       "array([    0.      , -6316.2085  ,   256.75644 ,  1489.1874  ,\n",
       "        1129.7283  ,  6727.0186  ,     0.      ,   -51.351288,\n",
       "           0.      ,  -102.702576], dtype=float32)"
      ]
     },
     "execution_count": 1,
     "metadata": {},
     "output_type": "execute_result"
    }
   ],
   "source": [
    "runUint8(interpreter, data)"
   ]
  }
 ],
 "metadata": {
  "hide_input": false,
  "kernelspec": {
   "display_name": "Python 3",
   "language": "python",
   "name": "python3"
  },
  "language_info": {
   "codemirror_mode": {
    "name": "ipython",
    "version": 3
   },
   "file_extension": ".py",
   "mimetype": "text/x-python",
   "name": "python",
   "nbconvert_exporter": "python",
   "pygments_lexer": "ipython3",
   "version": "3.8.5"
  },
  "latex_envs": {
   "LaTeX_envs_menu_present": true,
   "autocomplete": true,
   "bibliofile": "biblio.bib",
   "cite_by": "apalike",
   "current_citInitial": 1,
   "eqLabelWithNumbers": true,
   "eqNumInitial": 1,
   "hotkeys": {
    "equation": "Ctrl-E",
    "itemize": "Ctrl-I"
   },
   "labels_anchors": false,
   "latex_user_defs": false,
   "report_style_numbering": false,
   "user_envs_cfg": false
  },
  "nbTranslate": {
   "displayLangs": [
    "fr",
    "en"
   ],
   "hotkey": "alt-t",
   "langInMainMenu": false,
   "sourceLang": "en",
   "targetLang": "fr",
   "useGoogleTranslate": true
  }
 },
 "nbformat": 4,
 "nbformat_minor": 2
}
