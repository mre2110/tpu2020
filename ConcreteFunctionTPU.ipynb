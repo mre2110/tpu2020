{
 "cells": [
  {
   "cell_type": "code",
   "execution_count": 1,
   "metadata": {
    "code_folding": [],
    "execution": {
     "iopub.execute_input": "2020-11-24T17:49:00.729812Z",
     "iopub.status.busy": "2020-11-24T17:49:00.728353Z",
     "iopub.status.idle": "2020-11-24T17:49:01.640704Z",
     "shell.execute_reply": "2020-11-24T17:49:01.640267Z"
    }
   },
   "outputs": [],
   "source": [
    "# mre 2020-11-24\n",
    "\n",
    "import numpy as np\n",
    "import scipy as sp\n",
    "import matplotlib.pyplot as plt\n",
    "\n",
    "import os\n",
    "os.environ[\"CUDA_VISIBLE_DEVICES\"] = \"-1\" \n",
    "\n",
    "import tensorflow as tf"
   ]
  },
  {
   "cell_type": "markdown",
   "metadata": {},
   "source": [
    "# Helper for running interpreter"
   ]
  },
  {
   "cell_type": "code",
   "execution_count": 2,
   "metadata": {
    "execution": {
     "iopub.execute_input": "2020-11-24T17:49:01.644731Z",
     "iopub.status.busy": "2020-11-24T17:49:01.644377Z",
     "iopub.status.idle": "2020-11-24T17:49:01.646284Z",
     "shell.execute_reply": "2020-11-24T17:49:01.645992Z"
    }
   },
   "outputs": [],
   "source": [
    "# run interpreter on random input\n",
    "def test(interpreter):\n",
    "    interpreter.allocate_tensors()\n",
    "\n",
    "    input_details  = interpreter.get_input_details()\n",
    "    output_details = interpreter.get_output_details()\n",
    "\n",
    "    input_shape = input_details[0]['shape']\n",
    "    input_data  = np.array(np.random.random_sample(input_shape), dtype=np.float32)\n",
    "    interpreter.set_tensor(input_details[0]['index'], input_data)\n",
    "\n",
    "    interpreter.invoke()\n",
    "    \n",
    "    output_data = interpreter.get_tensor(output_details[0]['index'])\n",
    "    return output_data\n",
    "\n",
    "\n",
    "# run interpreter on real dataset data\n",
    "def run(interpreter, data):\n",
    "    interpreter.allocate_tensors()\n",
    "\n",
    "    input_index  = interpreter.get_input_details()[0][\"index\"]\n",
    "    output_index = interpreter.get_output_details()[0][\"index\"]\n",
    "\n",
    "    y = []\n",
    "    for i, x in enumerate(data):\n",
    "        tx = tf.constant(x, shape=(1,1))\n",
    "\n",
    "        interpreter.set_tensor(input_index, tx)\n",
    "        interpreter.invoke()\n",
    "        output = interpreter.tensor(output_index)\n",
    "\n",
    "        y.append(output()[0][0])\n",
    " \n",
    "    return np.array(y)"
   ]
  },
  {
   "cell_type": "markdown",
   "metadata": {},
   "source": [
    "# Helper uint8"
   ]
  },
  {
   "cell_type": "code",
   "execution_count": 3,
   "metadata": {
    "execution": {
     "iopub.execute_input": "2020-11-24T17:49:01.649375Z",
     "iopub.status.busy": "2020-11-24T17:49:01.649087Z",
     "iopub.status.idle": "2020-11-24T17:49:01.650980Z",
     "shell.execute_reply": "2020-11-24T17:49:01.650694Z"
    }
   },
   "outputs": [],
   "source": [
    "# convert float to uint8\n",
    "def toUint8(xx):\n",
    "    x = np.array(xx)\n",
    "    c = x.mean()\n",
    "    r = x.max() - x.min()\n",
    "    return np.uint8(255 * (x - x.min()) / (x.max() - x.min()))\n",
    "\n",
    "\n",
    "# run uint8-Model with IO-conversion\n",
    "def runUint8(interpreter, x):\n",
    "    \"\"\"\n",
    "    x -> uint8-input -> interpreter -> uint8-output -> float\n",
    "    \"\"\"\n",
    "    x8 = toUint8(x)\n",
    "        \n",
    "    y8 = np.array(run(interpreter, x8))\n",
    "    \n",
    "    s, c =interpreter.get_output_details()[0]['quantization']\n",
    "    y = s * (y8 - c)\n",
    "    \n",
    "    return y "
   ]
  },
  {
   "cell_type": "markdown",
   "metadata": {},
   "source": [
    "# Helper for TPU execution"
   ]
  },
  {
   "cell_type": "code",
   "execution_count": 4,
   "metadata": {
    "execution": {
     "iopub.execute_input": "2020-11-24T17:49:01.653864Z",
     "iopub.status.busy": "2020-11-24T17:49:01.653574Z",
     "iopub.status.idle": "2020-11-24T17:49:01.656265Z",
     "shell.execute_reply": "2020-11-24T17:49:01.655979Z"
    }
   },
   "outputs": [],
   "source": [
    "import platform\n",
    "import tflite_runtime.interpreter as tflite\n",
    "\n",
    "EDGETPU_SHARED_LIB = {\n",
    "  'Linux': 'libedgetpu.so.1',\n",
    "  'Darwin': 'libedgetpu.1.dylib',\n",
    "  'Windows': 'edgetpu.dll'\n",
    "}[platform.system()]\n",
    "\n",
    "\n",
    "def make_interpreter(model_file):\n",
    "  model_file, *device = model_file.split('@')\n",
    "  return tflite.Interpreter(\n",
    "      model_path=model_file,\n",
    "      experimental_delegates=[\n",
    "          tflite.load_delegate(EDGETPU_SHARED_LIB,\n",
    "                               {'device': device[0]} if device else {})\n",
    "      ])"
   ]
  },
  {
   "cell_type": "markdown",
   "metadata": {},
   "source": [
    "# Definition of (concrete) function and data"
   ]
  },
  {
   "cell_type": "code",
   "execution_count": 5,
   "metadata": {
    "execution": {
     "iopub.execute_input": "2020-11-24T17:49:01.688225Z",
     "iopub.status.busy": "2020-11-24T17:49:01.687919Z",
     "iopub.status.idle": "2020-11-24T17:49:01.725873Z",
     "shell.execute_reply": "2020-11-24T17:49:01.725565Z"
    }
   },
   "outputs": [
    {
     "data": {
      "text/plain": [
       "<tf.Tensor: shape=(2, 2), dtype=float32, numpy=\n",
       "array([[5., 5.],\n",
       "       [5., 5.]], dtype=float32)>"
      ]
     },
     "execution_count": 5,
     "metadata": {},
     "output_type": "execute_result"
    }
   ],
   "source": [
    "@tf.function\n",
    "def cf(a):\n",
    "  return 2*a + 3\n",
    "\n",
    "cf(tf.ones([2, 2]))"
   ]
  },
  {
   "cell_type": "code",
   "execution_count": 6,
   "metadata": {
    "execution": {
     "iopub.execute_input": "2020-11-24T17:49:01.728232Z",
     "iopub.status.busy": "2020-11-24T17:49:01.727939Z",
     "iopub.status.idle": "2020-11-24T17:49:01.731486Z",
     "shell.execute_reply": "2020-11-24T17:49:01.731178Z"
    }
   },
   "outputs": [
    {
     "data": {
      "text/plain": [
       "[array([2.7626588], dtype=float32),\n",
       " array([-18.54628], dtype=float32),\n",
       " array([6.2390113], dtype=float32),\n",
       " array([11.453113], dtype=float32),\n",
       " array([10.371904], dtype=float32),\n",
       " array([18.86639], dtype=float32),\n",
       " array([-1.1169829], dtype=float32),\n",
       " array([-3.6210134], dtype=float32),\n",
       " array([1.4867505], dtype=float32),\n",
       " array([-4.3778315], dtype=float32)]"
      ]
     },
     "execution_count": 6,
     "metadata": {},
     "output_type": "execute_result"
    }
   ],
   "source": [
    "nx = 10\n",
    "\n",
    "#data = [np.array([x], dtype=np.float32) for x in np.arange(nx) + 1]\n",
    "\n",
    "np.random.seed(17)\n",
    "data = [np.array([10*x], dtype=np.float32) for x in np.random.randn(nx)]\n",
    "data"
   ]
  },
  {
   "cell_type": "markdown",
   "metadata": {},
   "source": [
    "# Conversion to TFLite and execution on CPU"
   ]
  },
  {
   "cell_type": "markdown",
   "metadata": {},
   "source": [
    "## Convert concrete function to TFLite"
   ]
  },
  {
   "cell_type": "code",
   "execution_count": 7,
   "metadata": {
    "execution": {
     "iopub.execute_input": "2020-11-24T17:49:01.736276Z",
     "iopub.status.busy": "2020-11-24T17:49:01.735978Z",
     "iopub.status.idle": "2020-11-24T17:49:01.752173Z",
     "shell.execute_reply": "2020-11-24T17:49:01.751853Z"
    }
   },
   "outputs": [],
   "source": [
    "converter = tf.lite.TFLiteConverter.from_concrete_functions([cf.get_concrete_function(tf.ones([1,1]))])\n",
    "\n",
    "model_lite = converter.convert()"
   ]
  },
  {
   "cell_type": "markdown",
   "metadata": {},
   "source": [
    "## Execution with random input"
   ]
  },
  {
   "cell_type": "code",
   "execution_count": 8,
   "metadata": {
    "execution": {
     "iopub.execute_input": "2020-11-24T17:49:01.755071Z",
     "iopub.status.busy": "2020-11-24T17:49:01.754744Z",
     "iopub.status.idle": "2020-11-24T17:49:01.756462Z",
     "shell.execute_reply": "2020-11-24T17:49:01.756723Z"
    }
   },
   "outputs": [
    {
     "data": {
      "text/plain": [
       "array([[4.1035028]], dtype=float32)"
      ]
     },
     "execution_count": 8,
     "metadata": {},
     "output_type": "execute_result"
    }
   ],
   "source": [
    "interpreter = tf.lite.Interpreter(model_content=model_lite)\n",
    "\n",
    "test(interpreter)"
   ]
  },
  {
   "cell_type": "markdown",
   "metadata": {},
   "source": [
    "## Execution with own input"
   ]
  },
  {
   "cell_type": "code",
   "execution_count": 9,
   "metadata": {
    "execution": {
     "iopub.execute_input": "2020-11-24T17:49:01.758850Z",
     "iopub.status.busy": "2020-11-24T17:49:01.758566Z",
     "iopub.status.idle": "2020-11-24T17:49:01.761626Z",
     "shell.execute_reply": "2020-11-24T17:49:01.761332Z"
    }
   },
   "outputs": [
    {
     "data": {
      "text/plain": [
       "array([  8.525318 , -34.09256  ,  15.478023 ,  25.906225 ,  23.743809 ,\n",
       "        40.73278  ,   0.7660341,  -4.242027 ,   5.973501 ,  -5.755663 ],\n",
       "      dtype=float32)"
      ]
     },
     "execution_count": 9,
     "metadata": {},
     "output_type": "execute_result"
    }
   ],
   "source": [
    "run(interpreter, data)"
   ]
  },
  {
   "cell_type": "markdown",
   "metadata": {},
   "source": [
    "# Conversion to TFLite-uint8, execution on CPU and TPU"
   ]
  },
  {
   "cell_type": "markdown",
   "metadata": {},
   "source": [
    "## Representative data for quantization"
   ]
  },
  {
   "cell_type": "code",
   "execution_count": 10,
   "metadata": {
    "execution": {
     "iopub.execute_input": "2020-11-24T17:49:01.764623Z",
     "iopub.status.busy": "2020-11-24T17:49:01.764251Z",
     "iopub.status.idle": "2020-11-24T17:49:01.766578Z",
     "shell.execute_reply": "2020-11-24T17:49:01.766978Z"
    }
   },
   "outputs": [
    {
     "data": {
      "text/plain": [
       "[[<tf.Tensor: shape=(1,), dtype=float32, numpy=array([2.7626588], dtype=float32)>],\n",
       " [<tf.Tensor: shape=(1,), dtype=float32, numpy=array([-18.54628], dtype=float32)>],\n",
       " [<tf.Tensor: shape=(1,), dtype=float32, numpy=array([6.2390113], dtype=float32)>],\n",
       " [<tf.Tensor: shape=(1,), dtype=float32, numpy=array([11.453113], dtype=float32)>],\n",
       " [<tf.Tensor: shape=(1,), dtype=float32, numpy=array([10.371904], dtype=float32)>],\n",
       " [<tf.Tensor: shape=(1,), dtype=float32, numpy=array([18.86639], dtype=float32)>],\n",
       " [<tf.Tensor: shape=(1,), dtype=float32, numpy=array([-1.1169829], dtype=float32)>],\n",
       " [<tf.Tensor: shape=(1,), dtype=float32, numpy=array([-3.6210134], dtype=float32)>],\n",
       " [<tf.Tensor: shape=(1,), dtype=float32, numpy=array([1.4867505], dtype=float32)>],\n",
       " [<tf.Tensor: shape=(1,), dtype=float32, numpy=array([-4.3778315], dtype=float32)>]]"
      ]
     },
     "execution_count": 10,
     "metadata": {},
     "output_type": "execute_result"
    }
   ],
   "source": [
    "def representative_data_gen():\n",
    "    for x in data:\n",
    "        yield [tf.cast(x, tf.float32)]\n",
    "        \n",
    "list(representative_data_gen())"
   ]
  },
  {
   "cell_type": "markdown",
   "metadata": {},
   "source": [
    "## Convert concrete function to TFLite-uint8"
   ]
  },
  {
   "cell_type": "code",
   "execution_count": 11,
   "metadata": {
    "execution": {
     "iopub.execute_input": "2020-11-24T17:49:01.772222Z",
     "iopub.status.busy": "2020-11-24T17:49:01.771921Z",
     "iopub.status.idle": "2020-11-24T17:49:01.784196Z",
     "shell.execute_reply": "2020-11-24T17:49:01.783876Z"
    }
   },
   "outputs": [],
   "source": [
    "converter = tf.lite.TFLiteConverter.from_concrete_functions([cf.get_concrete_function(tf.ones([1,1]))])\n",
    "\n",
    "converter.experimental_new_converter = True\n",
    "converter.target_spec.supported_ops  = [tf.lite.OpsSet.TFLITE_BUILTINS_INT8]\n",
    "\n",
    "converter.inference_input_type  = tf.uint8\n",
    "converter.inference_output_type = tf.uint8\n",
    "\n",
    "converter.representative_dataset = representative_data_gen\n",
    "\n",
    "model_int_lite = converter.convert()"
   ]
  },
  {
   "cell_type": "markdown",
   "metadata": {},
   "source": [
    "## Run uint8-model on CPU with uint8-IO"
   ]
  },
  {
   "cell_type": "code",
   "execution_count": 12,
   "metadata": {
    "execution": {
     "iopub.execute_input": "2020-11-24T17:49:01.786674Z",
     "iopub.status.busy": "2020-11-24T17:49:01.786380Z",
     "iopub.status.idle": "2020-11-24T17:49:01.789023Z",
     "shell.execute_reply": "2020-11-24T17:49:01.789253Z"
    }
   },
   "outputs": [
    {
     "data": {
      "text/plain": [
       "array([145,   0, 168, 204, 197, 254, 118, 101, 136,  96], dtype=uint8)"
      ]
     },
     "execution_count": 12,
     "metadata": {},
     "output_type": "execute_result"
    }
   ],
   "source": [
    "interpreter = tf.lite.Interpreter(model_content=model_int_lite)\n",
    "\n",
    "run(interpreter, toUint8(data))"
   ]
  },
  {
   "cell_type": "markdown",
   "metadata": {},
   "source": [
    "## Run uint8-model on CPU with float-IO"
   ]
  },
  {
   "cell_type": "code",
   "execution_count": 13,
   "metadata": {
    "execution": {
     "iopub.execute_input": "2020-11-24T17:49:01.791219Z",
     "iopub.status.busy": "2020-11-24T17:49:01.790927Z",
     "iopub.status.idle": "2020-11-24T17:49:01.793796Z",
     "shell.execute_reply": "2020-11-24T17:49:01.793492Z"
    }
   },
   "outputs": [
    {
     "data": {
      "text/plain": [
       "array([ 8.50954866, 41.08057976, 15.25850105, 25.8220787 , 23.76804972,\n",
       "       40.49371433,  0.58686543, 70.71728373,  5.86865425, 69.25012016])"
      ]
     },
     "execution_count": 13,
     "metadata": {},
     "output_type": "execute_result"
    }
   ],
   "source": [
    "runUint8(interpreter, data)"
   ]
  },
  {
   "cell_type": "markdown",
   "metadata": {},
   "source": [
    "# EdgeTPU"
   ]
  },
  {
   "cell_type": "markdown",
   "metadata": {},
   "source": [
    "## Write uint8-model to file and compile it for TPU"
   ]
  },
  {
   "cell_type": "code",
   "execution_count": 14,
   "metadata": {
    "execution": {
     "iopub.execute_input": "2020-11-24T17:49:01.795716Z",
     "iopub.status.busy": "2020-11-24T17:49:01.795423Z",
     "iopub.status.idle": "2020-11-24T17:49:01.796830Z",
     "shell.execute_reply": "2020-11-24T17:49:01.797075Z"
    }
   },
   "outputs": [],
   "source": [
    "with open('model_int.tflite', 'wb') as f:\n",
    "    f.write(model_int_lite)"
   ]
  },
  {
   "cell_type": "code",
   "execution_count": 15,
   "metadata": {
    "execution": {
     "iopub.execute_input": "2020-11-24T17:49:01.802383Z",
     "iopub.status.busy": "2020-11-24T17:49:01.802084Z",
     "iopub.status.idle": "2020-11-24T17:49:01.930770Z",
     "shell.execute_reply": "2020-11-24T17:49:01.929517Z"
    }
   },
   "outputs": [
    {
     "name": "stdout",
     "output_type": "stream",
     "text": [
      "Edge TPU Compiler version 15.0.340273435\r\n",
      "\r\n",
      "Model compiled successfully in 13 ms.\r\n",
      "\r\n",
      "Input model: model_int.tflite\r\n",
      "Input size: 1.41KiB\r\n",
      "Output model: model_int_edgetpu.tflite\r\n",
      "Output size: 32.49KiB\r\n",
      "On-chip memory used for caching model parameters: 512.00B\r\n",
      "On-chip memory remaining for caching model parameters: 8.10MiB\r\n",
      "Off-chip memory used for streaming uncached model parameters: 0.00B\r\n",
      "Number of Edge TPU subgraphs: 1\r\n",
      "Total number of operations: 4\r\n",
      "Operation log: model_int_edgetpu.log\r\n",
      "See the operation log file for individual operation details.\r\n"
     ]
    }
   ],
   "source": [
    "! edgetpu_compiler model_int.tflite"
   ]
  },
  {
   "cell_type": "code",
   "execution_count": 16,
   "metadata": {
    "execution": {
     "iopub.execute_input": "2020-11-24T17:49:01.939560Z",
     "iopub.status.busy": "2020-11-24T17:49:01.938391Z",
     "iopub.status.idle": "2020-11-24T17:49:02.065714Z",
     "shell.execute_reply": "2020-11-24T17:49:02.064461Z"
    }
   },
   "outputs": [
    {
     "name": "stdout",
     "output_type": "stream",
     "text": [
      "-rw-rw-r-- 1 mre mre 33272 Nov 24 19:21 model_int_edgetpu.tflite\r\n",
      "-rw-rw-r-- 1 mre mre  1440 Nov 24 19:21 model_int.tflite\r\n"
     ]
    }
   ],
   "source": [
    "! ls -l model_int*.tflite"
   ]
  },
  {
   "cell_type": "markdown",
   "metadata": {},
   "source": [
    "## Run uint8-model on TPU with uint8-IO"
   ]
  },
  {
   "cell_type": "code",
   "execution_count": 17,
   "metadata": {
    "execution": {
     "iopub.execute_input": "2020-11-24T17:49:02.117187Z",
     "iopub.status.busy": "2020-11-24T17:49:02.115790Z",
     "iopub.status.idle": "2020-11-24T17:49:02.131700Z",
     "shell.execute_reply": "2020-11-24T17:49:02.130426Z"
    }
   },
   "outputs": [
    {
     "data": {
      "text/plain": [
       "array([145,   0, 168, 204, 197, 254, 118, 101, 136,  96], dtype=uint8)"
      ]
     },
     "execution_count": 17,
     "metadata": {},
     "output_type": "execute_result"
    }
   ],
   "source": [
    "interpreter = make_interpreter(\"model_int_edgetpu.tflite\")\n",
    "\n",
    "run(interpreter, toUint8(data))"
   ]
  },
  {
   "cell_type": "markdown",
   "metadata": {},
   "source": [
    "## Run uint8-model on CPU with float-IO"
   ]
  },
  {
   "cell_type": "code",
   "execution_count": 18,
   "metadata": {
    "execution": {
     "iopub.execute_input": "2020-11-24T17:49:02.139381Z",
     "iopub.status.busy": "2020-11-24T17:49:02.138213Z",
     "iopub.status.idle": "2020-11-24T17:49:02.151484Z",
     "shell.execute_reply": "2020-11-24T17:49:02.150281Z"
    }
   },
   "outputs": [
    {
     "data": {
      "text/plain": [
       "array([ 8.50954866, 41.08057976, 15.25850105, 25.8220787 , 23.76804972,\n",
       "       40.49371433,  0.58686543, 70.71728373,  5.86865425, 69.25012016])"
      ]
     },
     "execution_count": 18,
     "metadata": {},
     "output_type": "execute_result"
    }
   ],
   "source": [
    "runUint8(interpreter, data)"
   ]
  }
 ],
 "metadata": {
  "hide_input": false,
  "kernelspec": {
   "display_name": "Python 3",
   "language": "python",
   "name": "python3"
  },
  "language_info": {
   "codemirror_mode": {
    "name": "ipython",
    "version": 3
   },
   "file_extension": ".py",
   "mimetype": "text/x-python",
   "name": "python",
   "nbconvert_exporter": "python",
   "pygments_lexer": "ipython3",
   "version": "3.8.5"
  },
  "latex_envs": {
   "LaTeX_envs_menu_present": true,
   "autocomplete": true,
   "bibliofile": "biblio.bib",
   "cite_by": "apalike",
   "current_citInitial": 1,
   "eqLabelWithNumbers": true,
   "eqNumInitial": 1,
   "hotkeys": {
    "equation": "Ctrl-E",
    "itemize": "Ctrl-I"
   },
   "labels_anchors": false,
   "latex_user_defs": false,
   "report_style_numbering": false,
   "user_envs_cfg": false
  },
  "nbTranslate": {
   "displayLangs": [
    "fr",
    "en"
   ],
   "hotkey": "alt-t",
   "langInMainMenu": false,
   "sourceLang": "en",
   "targetLang": "fr",
   "useGoogleTranslate": true
  }
 },
 "nbformat": 4,
 "nbformat_minor": 2
}
