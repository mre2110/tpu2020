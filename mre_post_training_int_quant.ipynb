{
 "cells": [
  {
   "cell_type": "markdown",
   "metadata": {
    "id": "6Y8E0lw5eYWm"
   },
   "source": [
    "# Modification of Google's \"Post-training integer quantization\""
   ]
  },
  {
   "cell_type": "markdown",
   "metadata": {
    "id": "BTC1rDAuei_1"
   },
   "source": [
    "## Overview\n",
    "\n",
    "This is a modifcation of Google's example code for testing the following issues:\n",
    "\n",
    "- [\"model not quantized\" error](https://colab.research.google.com/github/google-coral/tutorials/blob/master/fix_conversion_issues_ptq_tf2.ipynb)\n",
    "\n",
    "  - if converter.experimental_new_converter = True (which is default) and model.input.shape contains\n",
    "    \"None\", quantized models do not compile for edgetpu\n",
    "    \n",
    "  - replace \"None\" by 1\n",
    "  \n",
    "  \n",
    "- slow interpreter.set_tensor:\n",
    "\n",
    "  - depending on the input data type, interpreter.set_tensor becomes extremely slow\n",
    "  \n",
    "  - workaround: use np.array for input (not sure it works in all cases)"
   ]
  },
  {
   "cell_type": "markdown",
   "metadata": {
    "id": "dDqqUIZjZjac"
   },
   "source": [
    "## Setup"
   ]
  },
  {
   "cell_type": "code",
   "execution_count": 1,
   "metadata": {
    "execution": {
     "iopub.execute_input": "2020-12-07T09:35:33.831997Z",
     "iopub.status.busy": "2020-12-07T09:35:33.831726Z",
     "iopub.status.idle": "2020-12-07T09:35:34.689500Z",
     "shell.execute_reply": "2020-12-07T09:35:34.689146Z"
    },
    "id": "WsN6s5L1ieNl"
   },
   "outputs": [],
   "source": [
    "import logging\n",
    "logging.getLogger(\"tensorflow\").setLevel(logging.DEBUG)\n",
    "\n",
    "#import os\n",
    "#os.environ[\"CUDA_VISIBLE_DEVICES\"] = \"-1\" \n",
    "\n",
    "\n",
    "import tensorflow as tf\n",
    "import numpy as np\n",
    "assert float(tf.__version__[:3]) >= 2.3\n",
    "\n",
    "import matplotlib.pyplot as plt\n",
    "\n",
    "import time\n",
    "from datetime import datetime\n",
    "\n",
    "import tensorboard\n",
    "%load_ext tensorboard"
   ]
  },
  {
   "cell_type": "markdown",
   "metadata": {
    "id": "2XsEP17Zelz9"
   },
   "source": [
    "## Generate a TensorFlow Model"
   ]
  },
  {
   "cell_type": "markdown",
   "metadata": {
    "id": "5NMaNZQCkW9X"
   },
   "source": [
    "We'll build a simple model to classify numbers from the [MNIST dataset](https://www.tensorflow.org/datasets/catalog/mnist)."
   ]
  },
  {
   "cell_type": "code",
   "execution_count": 2,
   "metadata": {
    "execution": {
     "iopub.execute_input": "2020-12-07T09:35:34.692856Z",
     "iopub.status.busy": "2020-12-07T09:35:34.692587Z",
     "iopub.status.idle": "2020-12-07T09:35:35.390969Z",
     "shell.execute_reply": "2020-12-07T09:35:35.390670Z"
    },
    "id": "eMsw_6HujaqM"
   },
   "outputs": [],
   "source": [
    "# Load MNIST dataset\n",
    "mnist = tf.keras.datasets.mnist\n",
    "(train_images, train_labels), (test_images, test_labels) = mnist.load_data()\n",
    "\n",
    "# Normalize the input image so that each pixel value is between 0 to 1.\n",
    "train_images = train_images.astype(np.float32) / 255.0\n",
    "test_images = test_images.astype(np.float32) / 255.0\n",
    "\n",
    "# Define the model architecture\n",
    "model = tf.keras.Sequential([\n",
    "  tf.keras.layers.InputLayer(input_shape=(28, 28)),\n",
    "  tf.keras.layers.Reshape(target_shape=(28, 28, 1)),\n",
    "  tf.keras.layers.Conv2D(filters=12, kernel_size=(3, 3), activation='relu'),\n",
    "  tf.keras.layers.MaxPooling2D(pool_size=(2, 2)),\n",
    "  tf.keras.layers.Flatten(),\n",
    "  tf.keras.layers.Dense(10)\n",
    "])\n",
    "\n",
    "\n",
    "model.compile(optimizer='adam',\n",
    "              loss=tf.keras.losses.SparseCategoricalCrossentropy(\n",
    "                  from_logits=True),\n",
    "              metrics=['accuracy'])"
   ]
  },
  {
   "cell_type": "code",
   "execution_count": 3,
   "metadata": {
    "execution": {
     "iopub.execute_input": "2020-12-07T09:35:35.393284Z",
     "iopub.status.busy": "2020-12-07T09:35:35.393021Z",
     "iopub.status.idle": "2020-12-07T09:35:35.491620Z",
     "shell.execute_reply": "2020-12-07T09:35:35.491332Z"
    }
   },
   "outputs": [
    {
     "data": {
      "image/png": "[encoded data removed]",
      "text/plain": [
       "<IPython.core.display.Image object>"
      ]
     },
     "execution_count": 1,
     "metadata": {},
     "output_type": "execute_result"
    }
   ],
   "source": [
    "tf.keras.utils.plot_model(model)"
   ]
  },
  {
   "cell_type": "markdown",
   "metadata": {
    "execution": {
     "iopub.execute_input": "2020-12-03T15:05:42.590364Z",
     "iopub.status.busy": "2020-12-03T15:05:42.590071Z",
     "iopub.status.idle": "2020-12-03T15:05:57.499140Z",
     "shell.execute_reply": "2020-12-03T15:05:57.499403Z"
    },
    "id": "eMsw_6HujaqM"
   },
   "source": [
    "## Define the Keras TensorBoard callback."
   ]
  },
  {
   "cell_type": "code",
   "execution_count": 4,
   "metadata": {
    "execution": {
     "iopub.execute_input": "2020-12-07T09:35:35.493565Z",
     "iopub.status.busy": "2020-12-07T09:35:35.493298Z",
     "iopub.status.idle": "2020-12-07T09:35:35.494921Z",
     "shell.execute_reply": "2020-12-07T09:35:35.494644Z"
    },
    "id": "eMsw_6HujaqM"
   },
   "outputs": [],
   "source": [
    "#logdir=\"logs/fit/\" + datetime.now().strftime(\"%Y%m%d-%H%M%S\")\n",
    "#tensorboard_callback = tf.keras.callbacks.TensorBoard(log_dir=logdir)\n",
    "\n",
    "#model.fit(\n",
    "#  train_images,\n",
    "#  train_labels,\n",
    "#  epochs=5,\n",
    "#  validation_data=(test_images, test_labels),\n",
    "#  callbacks=[tensorboard_callback]\n",
    "#)\n",
    "\n",
    "#%tensorboard --logdir logs"
   ]
  },
  {
   "cell_type": "markdown",
   "metadata": {},
   "source": [
    "# Workaround for bug caused by dynamic batch size"
   ]
  },
  {
   "cell_type": "code",
   "execution_count": 5,
   "metadata": {
    "execution": {
     "iopub.execute_input": "2020-12-07T09:35:35.497135Z",
     "iopub.status.busy": "2020-12-07T09:35:35.496799Z",
     "iopub.status.idle": "2020-12-07T09:35:35.498705Z",
     "shell.execute_reply": "2020-12-07T09:35:35.498429Z"
    }
   },
   "outputs": [
    {
     "data": {
      "text/plain": [
       "TensorShape([None, 28, 28])"
      ]
     },
     "execution_count": 1,
     "metadata": {},
     "output_type": "execute_result"
    }
   ],
   "source": [
    "model.input.shape"
   ]
  },
  {
   "cell_type": "code",
   "execution_count": 6,
   "metadata": {
    "execution": {
     "iopub.execute_input": "2020-12-07T09:35:35.500581Z",
     "iopub.status.busy": "2020-12-07T09:35:35.500246Z",
     "iopub.status.idle": "2020-12-07T09:35:35.501578Z",
     "shell.execute_reply": "2020-12-07T09:35:35.501798Z"
    }
   },
   "outputs": [],
   "source": [
    "# https://colab.research.google.com/github/google-coral/tutorials/blob/master/fix_conversion_issues_ptq_tf2.ipynb#scrollTo=1_ViBvedQ6SK\n",
    "\n",
    "model.input.set_shape((1,) + model.input.shape[1:])"
   ]
  },
  {
   "cell_type": "code",
   "execution_count": 7,
   "metadata": {
    "execution": {
     "iopub.execute_input": "2020-12-07T09:35:35.503585Z",
     "iopub.status.busy": "2020-12-07T09:35:35.503289Z",
     "iopub.status.idle": "2020-12-07T09:35:35.505293Z",
     "shell.execute_reply": "2020-12-07T09:35:35.505058Z"
    }
   },
   "outputs": [
    {
     "data": {
      "text/plain": [
       "TensorShape([1, 28, 28])"
      ]
     },
     "execution_count": 1,
     "metadata": {},
     "output_type": "execute_result"
    }
   ],
   "source": [
    "model.input.shape"
   ]
  },
  {
   "cell_type": "markdown",
   "metadata": {
    "id": "KuTEoGFYd8aM"
   },
   "source": [
    "# Convert to TFLite"
   ]
  },
  {
   "cell_type": "markdown",
   "metadata": {},
   "source": [
    "## No quant"
   ]
  },
  {
   "cell_type": "code",
   "execution_count": 8,
   "metadata": {
    "execution": {
     "iopub.execute_input": "2020-12-07T09:35:35.510797Z",
     "iopub.status.busy": "2020-12-07T09:35:35.507503Z",
     "iopub.status.idle": "2020-12-07T09:35:35.963987Z",
     "shell.execute_reply": "2020-12-07T09:35:35.963704Z"
    }
   },
   "outputs": [
    {
     "name": "stdout",
     "output_type": "stream",
     "text": [
      "WARNING:tensorflow:From /media/data/mre/conda-tpu/envs/tf38/lib/python3.8/site-packages/tensorflow/python/training/tracking/tracking.py:111: Model.state_updates (from tensorflow.python.keras.engine.training) is deprecated and will be removed in a future version.\n",
      "Instructions for updating:\n",
      "This property should not be used in TensorFlow 2.0, as updates are applied automatically.\n",
      "WARNING:tensorflow:From /media/data/mre/conda-tpu/envs/tf38/lib/python3.8/site-packages/tensorflow/python/training/tracking/tracking.py:111: Layer.updates (from tensorflow.python.keras.engine.base_layer) is deprecated and will be removed in a future version.\n",
      "Instructions for updating:\n",
      "This property should not be used in TensorFlow 2.0, as updates are applied automatically.\n",
      "INFO:tensorflow:Assets written to: /tmp/tmpx5e_lfmt/assets\n",
      "Edge TPU Compiler version 15.0.340273435\r\n",
      "Invalid model: mnist.tflite\r\n",
      "Model not quantized\r\n"
     ]
    }
   ],
   "source": [
    "converter = tf.lite.TFLiteConverter.from_keras_model(model)\n",
    "#converter.experimental_new_converter = True\n",
    "\n",
    "mnist = converter.convert()\n",
    "\n",
    "with open('mnist.tflite', 'wb') as f:\n",
    "    f.write(mnist)\n",
    "    \n",
    "! edgetpu_compiler mnist.tflite"
   ]
  },
  {
   "cell_type": "markdown",
   "metadata": {},
   "source": [
    "This is ok, since the model actually *is not quantized*"
   ]
  },
  {
   "cell_type": "markdown",
   "metadata": {},
   "source": [
    "## Dyn quant"
   ]
  },
  {
   "cell_type": "code",
   "execution_count": 9,
   "metadata": {
    "execution": {
     "iopub.execute_input": "2020-12-07T09:35:35.970477Z",
     "iopub.status.busy": "2020-12-07T09:35:35.969343Z",
     "iopub.status.idle": "2020-12-07T09:35:36.384479Z",
     "shell.execute_reply": "2020-12-07T09:35:36.384094Z"
    }
   },
   "outputs": [
    {
     "name": "stdout",
     "output_type": "stream",
     "text": [
      "INFO:tensorflow:Assets written to: /tmp/tmpz2rj3xl8/assets\n"
     ]
    },
    {
     "name": "stderr",
     "output_type": "stream",
     "text": [
      "INFO:tensorflow:Assets written to: /tmp/tmpz2rj3xl8/assets\n"
     ]
    },
    {
     "name": "stdout",
     "output_type": "stream",
     "text": [
      "Edge TPU Compiler version 15.0.340273435\r\n",
      "Invalid model: mnist_dyn.tflite\r\n",
      "Model not quantized\r\n"
     ]
    }
   ],
   "source": [
    "converter = tf.lite.TFLiteConverter.from_keras_model(model)\n",
    "converter.optimizations = [tf.lite.Optimize.DEFAULT]\n",
    "\n",
    "mnist_dyn = converter.convert()\n",
    "\n",
    "with open('mnist_dyn.tflite', 'wb') as f:\n",
    "    f.write(mnist_dyn)\n",
    "    \n",
    "! edgetpu_compiler mnist_dyn.tflite"
   ]
  },
  {
   "cell_type": "markdown",
   "metadata": {},
   "source": [
    "This is ok, since the model actually *is not quantized*"
   ]
  },
  {
   "cell_type": "markdown",
   "metadata": {},
   "source": [
    "## Dyn quant fio"
   ]
  },
  {
   "cell_type": "code",
   "execution_count": 10,
   "metadata": {
    "execution": {
     "iopub.execute_input": "2020-12-07T09:35:36.386943Z",
     "iopub.status.busy": "2020-12-07T09:35:36.386678Z",
     "iopub.status.idle": "2020-12-07T09:35:36.388547Z",
     "shell.execute_reply": "2020-12-07T09:35:36.388213Z"
    },
    "id": "kzjEjcDs3BHa"
   },
   "outputs": [],
   "source": [
    "def representative_data_gen():\n",
    "  for input_value in tf.data.Dataset.from_tensor_slices(train_images).batch(1).take(100):\n",
    "    yield [input_value]"
   ]
  },
  {
   "cell_type": "code",
   "execution_count": 11,
   "metadata": {
    "execution": {
     "iopub.execute_input": "2020-12-07T09:35:36.393836Z",
     "iopub.status.busy": "2020-12-07T09:35:36.392625Z",
     "iopub.status.idle": "2020-12-07T09:35:37.154964Z",
     "shell.execute_reply": "2020-12-07T09:35:37.153686Z"
    },
    "id": "kzjEjcDs3BHa"
   },
   "outputs": [
    {
     "name": "stdout",
     "output_type": "stream",
     "text": [
      "INFO:tensorflow:Assets written to: /tmp/tmp_maw6wq6/assets\n"
     ]
    },
    {
     "name": "stderr",
     "output_type": "stream",
     "text": [
      "INFO:tensorflow:Assets written to: /tmp/tmp_maw6wq6/assets\n"
     ]
    },
    {
     "name": "stdout",
     "output_type": "stream",
     "text": [
      "Edge TPU Compiler version 15.0.340273435\r\n",
      "\r\n",
      "Model compiled successfully in 28 ms.\r\n",
      "\r\n",
      "Input model: mnist_fio.tflite\r\n",
      "Input size: 23.02KiB\r\n",
      "Output model: mnist_fio_edgetpu.tflite\r\n",
      "Output size: 96.79KiB\r\n",
      "On-chip memory used for caching model parameters: 130.00KiB\r\n",
      "On-chip memory remaining for caching model parameters: 7.73MiB\r\n",
      "Off-chip memory used for streaming uncached model parameters: 0.00B\r\n",
      "Number of Edge TPU subgraphs: 1\r\n",
      "Total number of operations: 7\r\n",
      "Operation log: mnist_fio_edgetpu.log\r\n",
      "\r\n",
      "Model successfully compiled but not all operations are supported by the Edge TPU. A percentage of the model will instead run on the CPU, which is slower. If possible, consider updating your model to use only operations supported by the Edge TPU. For details, visit g.co/coral/model-reqs.\r\n",
      "Number of operations that will run on Edge TPU: 5\r\n",
      "Number of operations that will run on CPU: 2\r\n",
      "See the operation log file for individual operation details.\r\n",
      "-rw-rw-r-- 1 mre mre   610 Dez  7 10:35 mnist_fio_edgetpu.log\r\n",
      "-rw-rw-r-- 1 mre mre 99112 Dez  7 10:35 mnist_fio_edgetpu.tflite\r\n",
      "-rw-rw-r-- 1 mre mre 23568 Dez  7 10:35 mnist_fio.tflite\r\n"
     ]
    }
   ],
   "source": [
    "converter = tf.lite.TFLiteConverter.from_keras_model(model)\n",
    "converter.optimizations = [tf.lite.Optimize.DEFAULT]\n",
    "\n",
    "#converter.experimental_new_converter = False # is only needen without workaround above\n",
    "\n",
    "\n",
    "converter.representative_dataset = representative_data_gen\n",
    "# Ensure that if any ops can't be quantized, the converter throws an error\n",
    "converter.target_spec.supported_ops = [tf.lite.OpsSet.TFLITE_BUILTINS_INT8]\n",
    "\n",
    "# Set the input and output tensors to uint8 (APIs added in r2.3)\n",
    "converter.inference_input_type = tf.float32\n",
    "converter.inference_output_type = tf.float32\n",
    "\n",
    "mnist_fio = converter.convert()\n",
    "\n",
    "\n",
    "with open('mnist_fio.tflite', 'wb') as f:\n",
    "    f.write(mnist_fio)\n",
    "    \n",
    "! edgetpu_compiler mnist_fio.tflite\n",
    "! ls -l mnist_fio*"
   ]
  },
  {
   "cell_type": "markdown",
   "metadata": {},
   "source": [
    "## Dyn quant int"
   ]
  },
  {
   "cell_type": "code",
   "execution_count": 12,
   "metadata": {
    "execution": {
     "iopub.execute_input": "2020-12-07T09:35:37.171099Z",
     "iopub.status.busy": "2020-12-07T09:35:37.165796Z",
     "iopub.status.idle": "2020-12-07T09:35:38.043638Z",
     "shell.execute_reply": "2020-12-07T09:35:38.042362Z"
    }
   },
   "outputs": [
    {
     "name": "stdout",
     "output_type": "stream",
     "text": [
      "INFO:tensorflow:Assets written to: /tmp/tmp07swsr39/assets\n"
     ]
    },
    {
     "name": "stderr",
     "output_type": "stream",
     "text": [
      "INFO:tensorflow:Assets written to: /tmp/tmp07swsr39/assets\n"
     ]
    },
    {
     "name": "stdout",
     "output_type": "stream",
     "text": [
      "Edge TPU Compiler version 15.0.340273435\r\n",
      "\r\n",
      "Model compiled successfully in 30 ms.\r\n",
      "\r\n",
      "Input model: mnist_int.tflite\r\n",
      "Input size: 23.09KiB\r\n",
      "Output model: mnist_int_edgetpu.tflite\r\n",
      "Output size: 96.52KiB\r\n",
      "On-chip memory used for caching model parameters: 134.00KiB\r\n",
      "On-chip memory remaining for caching model parameters: 7.72MiB\r\n",
      "Off-chip memory used for streaming uncached model parameters: 0.00B\r\n",
      "Number of Edge TPU subgraphs: 1\r\n",
      "Total number of operations: 7\r\n",
      "Operation log: mnist_int_edgetpu.log\r\n",
      "See the operation log file for individual operation details.\r\n",
      "-rw-rw-r-- 1 mre mre   454 Dez  7 10:35 mnist_int_edgetpu.log\r\n",
      "-rw-rw-r-- 1 mre mre 98840 Dez  7 10:35 mnist_int_edgetpu.tflite\r\n"
     ]
    }
   ],
   "source": [
    "converter = tf.lite.TFLiteConverter.from_keras_model(model)\n",
    "\n",
    "# This enables quantization\n",
    "converter.optimizations = [tf.lite.Optimize.DEFAULT]\n",
    "\n",
    "#converter.experimental_new_converter = False\n",
    "\n",
    "\n",
    "# This sets the representative dataset for quantization\n",
    "converter.representative_dataset = representative_data_gen\n",
    "# This ensures that if any ops can't be quantized, the converter throws an error\n",
    "converter.target_spec.supported_ops = [tf.lite.OpsSet.TFLITE_BUILTINS_INT8]\n",
    "# For full integer quantization, though supported types defaults to int8 only, we explicitly declare it for clarity.\n",
    "converter.target_spec.supported_types = [tf.int8]\n",
    "# These set the input and output tensors to uint8 (added in r2.3)\n",
    "converter.inference_input_type = tf.uint8\n",
    "converter.inference_output_type = tf.uint8\n",
    "\n",
    "mnist_int = converter.convert()\n",
    "\n",
    "\n",
    "with open('mnist_int.tflite', 'wb') as f:\n",
    "    f.write(mnist_int)\n",
    "    \n",
    "! edgetpu_compiler mnist_int.tflite\n",
    "! ls -l mnist_int_*"
   ]
  },
  {
   "cell_type": "markdown",
   "metadata": {},
   "source": [
    "# Run full model"
   ]
  },
  {
   "cell_type": "code",
   "execution_count": 13,
   "metadata": {
    "execution": {
     "iopub.execute_input": "2020-12-07T09:35:38.087662Z",
     "iopub.status.busy": "2020-12-07T09:35:38.082867Z",
     "iopub.status.idle": "2020-12-07T09:35:38.161820Z",
     "shell.execute_reply": "2020-12-07T09:35:38.161534Z"
    }
   },
   "outputs": [
    {
     "data": {
      "text/plain": [
       "<matplotlib.image.AxesImage at 0x7f5e5c5ce340>"
      ]
     },
     "execution_count": 1,
     "metadata": {},
     "output_type": "execute_result"
    },
    {
     "data": {
      "image/png": "[encoded data removed]",
      "text/plain": [
       "<Figure size 432x288 with 1 Axes>"
      ]
     },
     "metadata": {
      "needs_background": "light"
     },
     "output_type": "display_data"
    }
   ],
   "source": [
    "#x = test_images[:3]\n",
    "x = test_images[:100]\n",
    "\n",
    "plt.imshow(x[0]);"
   ]
  },
  {
   "cell_type": "code",
   "execution_count": 14,
   "metadata": {
    "execution": {
     "iopub.execute_input": "2020-12-07T09:35:38.163987Z",
     "iopub.status.busy": "2020-12-07T09:35:38.163672Z",
     "iopub.status.idle": "2020-12-07T09:35:38.165496Z",
     "shell.execute_reply": "2020-12-07T09:35:38.165222Z"
    }
   },
   "outputs": [
    {
     "data": {
      "text/plain": [
       "(1, 28, 28)"
      ]
     },
     "execution_count": 1,
     "metadata": {},
     "output_type": "execute_result"
    }
   ],
   "source": [
    "x0 = x[0].reshape(1, *x[0].shape)\n",
    "x0.shape"
   ]
  },
  {
   "cell_type": "code",
   "execution_count": 15,
   "metadata": {
    "execution": {
     "iopub.execute_input": "2020-12-07T09:35:38.168004Z",
     "iopub.status.busy": "2020-12-07T09:35:38.167745Z",
     "iopub.status.idle": "2020-12-07T09:35:39.128034Z",
     "shell.execute_reply": "2020-12-07T09:35:39.127752Z"
    }
   },
   "outputs": [
    {
     "name": "stdout",
     "output_type": "stream",
     "text": [
      "18.4 ms ± 779 µs per loop (mean ± std. dev. of 7 runs, 1 loop each)\n"
     ]
    }
   ],
   "source": [
    "%timeit model.predict(x0)"
   ]
  },
  {
   "cell_type": "markdown",
   "metadata": {},
   "source": [
    "# Run TFLite models"
   ]
  },
  {
   "cell_type": "code",
   "execution_count": 16,
   "metadata": {
    "execution": {
     "iopub.execute_input": "2020-12-07T09:35:39.131136Z",
     "iopub.status.busy": "2020-12-07T09:35:39.130869Z",
     "iopub.status.idle": "2020-12-07T09:35:39.133599Z",
     "shell.execute_reply": "2020-12-07T09:35:39.133326Z"
    }
   },
   "outputs": [],
   "source": [
    "import platform\n",
    "import tflite_runtime.interpreter as tflite\n",
    "\n",
    "EDGETPU_SHARED_LIB = {\n",
    "  'Linux': 'libedgetpu.so.1',\n",
    "  'Darwin': 'libedgetpu.1.dylib',\n",
    "  'Windows': 'edgetpu.dll'\n",
    "}[platform.system()]\n",
    "\n",
    "\n",
    "def edge_interpreter(model_file):\n",
    "  model_file, *device = model_file.split('@')\n",
    "  return tflite.Interpreter(\n",
    "      model_path=model_file,\n",
    "      experimental_delegates=[\n",
    "          tflite.load_delegate(EDGETPU_SHARED_LIB,\n",
    "                               {'device': device[0]} if device else {})\n",
    "      ])"
   ]
  },
  {
   "cell_type": "code",
   "execution_count": 17,
   "metadata": {
    "execution": {
     "iopub.execute_input": "2020-12-07T09:35:39.137805Z",
     "iopub.status.busy": "2020-12-07T09:35:39.137535Z",
     "iopub.status.idle": "2020-12-07T09:35:39.139297Z",
     "shell.execute_reply": "2020-12-07T09:35:39.139024Z"
    }
   },
   "outputs": [],
   "source": [
    "def run(interpreter, xx):\n",
    "    input_details = interpreter.get_input_details()[0]\n",
    "    output_details = interpreter.get_output_details()[0]\n",
    "\n",
    "    interpreter.allocate_tensors()\n",
    "\n",
    "    yy = []\n",
    "    for x in xx:\n",
    "        interpreter.set_tensor(input_details[\"index\"], [x])\n",
    "        interpreter.invoke()\n",
    "        y = interpreter.get_tensor(output_details[\"index\"])[0]\n",
    "\n",
    "        yy.append(y.argmax())\n",
    "    return yy\n",
    "\n",
    "\n",
    "def repeat(interpreter, xx, nrep = 10000):\n",
    "    input_details = interpreter.get_input_details()[0]\n",
    "    output_details = interpreter.get_output_details()[0]\n",
    "\n",
    "    interpreter.allocate_tensors()\n",
    "\n",
    "    yy = []\n",
    "    for x in xx:\n",
    "        interpreter.set_tensor(input_details[\"index\"], [x])\n",
    "        \n",
    "        start = time.perf_counter()\n",
    "        for i in range(nrep):\n",
    "            interpreter.invoke()\n",
    "        inference_time = time.perf_counter() - start\n",
    "        print('%.1fms' % (inference_time * 1000))    \n",
    "        \n",
    "        y = interpreter.get_tensor(output_details[\"index\"])[0]\n",
    "\n",
    "        yy.append(y.argmax())\n",
    "    return yy\n",
    "\n",
    "\n",
    "def toUint8(interpreter, xx):\n",
    "    s, c =interpreter.get_input_details()[0]['quantization']\n",
    "    x8 = tf.cast(tf.round(x/s + c), dtype=tf.uint8)\n",
    "    return x8"
   ]
  },
  {
   "cell_type": "markdown",
   "metadata": {},
   "source": [
    "## No quant"
   ]
  },
  {
   "cell_type": "code",
   "execution_count": 18,
   "metadata": {
    "execution": {
     "iopub.execute_input": "2020-12-07T09:35:39.141361Z",
     "iopub.status.busy": "2020-12-07T09:35:39.141050Z",
     "iopub.status.idle": "2020-12-07T09:35:39.143146Z",
     "shell.execute_reply": "2020-12-07T09:35:39.142871Z"
    }
   },
   "outputs": [
    {
     "data": {
      "text/plain": [
       "numpy.ndarray"
      ]
     },
     "execution_count": 1,
     "metadata": {},
     "output_type": "execute_result"
    }
   ],
   "source": [
    "type(x)"
   ]
  },
  {
   "cell_type": "code",
   "execution_count": 19,
   "metadata": {
    "execution": {
     "iopub.execute_input": "2020-12-07T09:35:39.145876Z",
     "iopub.status.busy": "2020-12-07T09:35:39.145610Z",
     "iopub.status.idle": "2020-12-07T09:35:49.967987Z",
     "shell.execute_reply": "2020-12-07T09:35:49.967685Z"
    }
   },
   "outputs": [
    {
     "name": "stdout",
     "output_type": "stream",
     "text": [
      "13.3 ms ± 247 µs per loop (mean ± std. dev. of 7 runs, 100 loops each)\n"
     ]
    }
   ],
   "source": [
    "interpreter = tflite.Interpreter(model_path='mnist.tflite')\n",
    "\n",
    "%timeit run(interpreter, x)[-1]"
   ]
  },
  {
   "cell_type": "code",
   "execution_count": 20,
   "metadata": {
    "execution": {
     "iopub.execute_input": "2020-12-07T09:35:49.970219Z",
     "iopub.status.busy": "2020-12-07T09:35:49.969939Z",
     "iopub.status.idle": "2020-12-07T09:35:51.286365Z",
     "shell.execute_reply": "2020-12-07T09:35:51.286059Z"
    }
   },
   "outputs": [
    {
     "name": "stdout",
     "output_type": "stream",
     "text": [
      "1313.6ms\n",
      "CPU times: user 1.31 s, sys: 0 ns, total: 1.31 s\n",
      "Wall time: 1.31 s\n"
     ]
    },
    {
     "data": {
      "text/plain": [
       "[0]"
      ]
     },
     "execution_count": 1,
     "metadata": {},
     "output_type": "execute_result"
    }
   ],
   "source": [
    "%time repeat(interpreter, [x[0]])"
   ]
  },
  {
   "cell_type": "markdown",
   "metadata": {},
   "source": [
    "## Dyn quant"
   ]
  },
  {
   "cell_type": "code",
   "execution_count": 21,
   "metadata": {
    "execution": {
     "iopub.execute_input": "2020-12-07T09:35:51.289587Z",
     "iopub.status.busy": "2020-12-07T09:35:51.289304Z",
     "iopub.status.idle": "2020-12-07T09:36:02.624869Z",
     "shell.execute_reply": "2020-12-07T09:36:02.624570Z"
    }
   },
   "outputs": [
    {
     "name": "stdout",
     "output_type": "stream",
     "text": [
      "14 ms ± 32.7 µs per loop (mean ± std. dev. of 7 runs, 100 loops each)\n"
     ]
    }
   ],
   "source": [
    "interpreter = tflite.Interpreter(model_path='mnist_dyn.tflite')\n",
    "\n",
    "%timeit run(interpreter, x)[-1]"
   ]
  },
  {
   "cell_type": "code",
   "execution_count": 22,
   "metadata": {
    "execution": {
     "iopub.execute_input": "2020-12-07T09:36:02.627076Z",
     "iopub.status.busy": "2020-12-07T09:36:02.626798Z",
     "iopub.status.idle": "2020-12-07T09:36:03.973943Z",
     "shell.execute_reply": "2020-12-07T09:36:03.973645Z"
    }
   },
   "outputs": [
    {
     "name": "stdout",
     "output_type": "stream",
     "text": [
      "1344.4ms\n",
      "CPU times: user 1.34 s, sys: 0 ns, total: 1.34 s\n",
      "Wall time: 1.34 s\n"
     ]
    },
    {
     "data": {
      "text/plain": [
       "[0]"
      ]
     },
     "execution_count": 1,
     "metadata": {},
     "output_type": "execute_result"
    }
   ],
   "source": [
    "%time repeat(interpreter, [x[0]])"
   ]
  },
  {
   "cell_type": "markdown",
   "metadata": {},
   "source": [
    "## Dyn quant fio"
   ]
  },
  {
   "cell_type": "code",
   "execution_count": 23,
   "metadata": {
    "execution": {
     "iopub.execute_input": "2020-12-07T09:36:03.977155Z",
     "iopub.status.busy": "2020-12-07T09:36:03.976877Z",
     "iopub.status.idle": "2020-12-07T09:36:03.978922Z",
     "shell.execute_reply": "2020-12-07T09:36:03.978677Z"
    }
   },
   "outputs": [
    {
     "data": {
      "text/plain": [
       "[{'name': 'input_1',\n",
       "  'index': 12,\n",
       "  'shape': array([ 1, 28, 28], dtype=int32),\n",
       "  'shape_signature': array([ 1, 28, 28], dtype=int32),\n",
       "  'dtype': numpy.float32,\n",
       "  'quantization': (0.0, 0),\n",
       "  'quantization_parameters': {'scales': array([], dtype=float32),\n",
       "   'zero_points': array([], dtype=int32),\n",
       "   'quantized_dimension': 0},\n",
       "  'sparsity_parameters': {}}]"
      ]
     },
     "execution_count": 1,
     "metadata": {},
     "output_type": "execute_result"
    }
   ],
   "source": [
    "interpreter = tflite.Interpreter(model_path='mnist_fio.tflite')\n",
    "interpreter.get_input_details()"
   ]
  },
  {
   "cell_type": "code",
   "execution_count": 24,
   "metadata": {
    "execution": {
     "iopub.execute_input": "2020-12-07T09:36:03.980975Z",
     "iopub.status.busy": "2020-12-07T09:36:03.980684Z",
     "iopub.status.idle": "2020-12-07T09:36:03.982766Z",
     "shell.execute_reply": "2020-12-07T09:36:03.982471Z"
    }
   },
   "outputs": [
    {
     "data": {
      "text/plain": [
       "(numpy.ndarray, (100, 28, 28), dtype('float32'))"
      ]
     },
     "execution_count": 1,
     "metadata": {},
     "output_type": "execute_result"
    }
   ],
   "source": [
    "type(x), x.shape, x.dtype"
   ]
  },
  {
   "cell_type": "code",
   "execution_count": 25,
   "metadata": {
    "execution": {
     "iopub.execute_input": "2020-12-07T09:36:03.985198Z",
     "iopub.status.busy": "2020-12-07T09:36:03.984910Z",
     "iopub.status.idle": "2020-12-07T09:36:07.348489Z",
     "shell.execute_reply": "2020-12-07T09:36:07.348151Z"
    }
   },
   "outputs": [
    {
     "name": "stdout",
     "output_type": "stream",
     "text": [
      "4.11 ms ± 63.8 µs per loop (mean ± std. dev. of 7 runs, 100 loops each)\n"
     ]
    }
   ],
   "source": [
    "%timeit run(interpreter, x)[-1]"
   ]
  },
  {
   "cell_type": "code",
   "execution_count": 26,
   "metadata": {
    "execution": {
     "iopub.execute_input": "2020-12-07T09:36:07.350678Z",
     "iopub.status.busy": "2020-12-07T09:36:07.350414Z",
     "iopub.status.idle": "2020-12-07T09:36:07.702278Z",
     "shell.execute_reply": "2020-12-07T09:36:07.702011Z"
    }
   },
   "outputs": [
    {
     "name": "stdout",
     "output_type": "stream",
     "text": [
      "349.4ms\n",
      "CPU times: user 350 ms, sys: 0 ns, total: 350 ms\n",
      "Wall time: 349 ms\n"
     ]
    },
    {
     "data": {
      "text/plain": [
       "[0]"
      ]
     },
     "execution_count": 1,
     "metadata": {},
     "output_type": "execute_result"
    }
   ],
   "source": [
    "%time repeat(interpreter, [x[0]])"
   ]
  },
  {
   "cell_type": "markdown",
   "metadata": {},
   "source": [
    "## Dyn quant int"
   ]
  },
  {
   "cell_type": "code",
   "execution_count": 27,
   "metadata": {
    "execution": {
     "iopub.execute_input": "2020-12-07T09:36:07.705172Z",
     "iopub.status.busy": "2020-12-07T09:36:07.704799Z",
     "iopub.status.idle": "2020-12-07T09:36:07.706798Z",
     "shell.execute_reply": "2020-12-07T09:36:07.706571Z"
    }
   },
   "outputs": [
    {
     "data": {
      "text/plain": [
       "[{'name': 'input_1',\n",
       "  'index': 12,\n",
       "  'shape': array([ 1, 28, 28], dtype=int32),\n",
       "  'shape_signature': array([ 1, 28, 28], dtype=int32),\n",
       "  'dtype': numpy.uint8,\n",
       "  'quantization': (0.003921568859368563, 0),\n",
       "  'quantization_parameters': {'scales': array([0.00392157], dtype=float32),\n",
       "   'zero_points': array([0], dtype=int32),\n",
       "   'quantized_dimension': 0},\n",
       "  'sparsity_parameters': {}}]"
      ]
     },
     "execution_count": 1,
     "metadata": {},
     "output_type": "execute_result"
    }
   ],
   "source": [
    "interpreter = tflite.Interpreter(model_path='mnist_int.tflite')\n",
    "interpreter.get_input_details()"
   ]
  },
  {
   "cell_type": "markdown",
   "metadata": {},
   "source": [
    "### Slow if input ist tensor"
   ]
  },
  {
   "cell_type": "code",
   "execution_count": 28,
   "metadata": {
    "execution": {
     "iopub.execute_input": "2020-12-07T09:36:07.709045Z",
     "iopub.status.busy": "2020-12-07T09:36:07.708787Z",
     "iopub.status.idle": "2020-12-07T09:36:07.726416Z",
     "shell.execute_reply": "2020-12-07T09:36:07.726143Z"
    },
    "scrolled": true
   },
   "outputs": [
    {
     "data": {
      "text/plain": [
       "(tensorflow.python.framework.ops.EagerTensor,\n",
       " TensorShape([100, 28, 28]),\n",
       " tf.uint8)"
      ]
     },
     "execution_count": 1,
     "metadata": {},
     "output_type": "execute_result"
    }
   ],
   "source": [
    "x8 = toUint8(interpreter, x)#.numpy()\n",
    "\n",
    "type(x8), x8.shape, x8.dtype"
   ]
  },
  {
   "cell_type": "code",
   "execution_count": 29,
   "metadata": {
    "execution": {
     "iopub.execute_input": "2020-12-07T09:36:07.728649Z",
     "iopub.status.busy": "2020-12-07T09:36:07.728334Z",
     "iopub.status.idle": "2020-12-07T09:36:11.782496Z",
     "shell.execute_reply": "2020-12-07T09:36:11.782215Z"
    }
   },
   "outputs": [
    {
     "name": "stdout",
     "output_type": "stream",
     "text": [
      "CPU times: user 4.05 s, sys: 0 ns, total: 4.05 s\n",
      "Wall time: 4.05 s\n"
     ]
    },
    {
     "data": {
      "text/plain": [
       "9"
      ]
     },
     "execution_count": 1,
     "metadata": {},
     "output_type": "execute_result"
    }
   ],
   "source": [
    "%time run(interpreter, x8)[-1]"
   ]
  },
  {
   "cell_type": "markdown",
   "metadata": {},
   "source": [
    "### Fast if input ist np.array"
   ]
  },
  {
   "cell_type": "code",
   "execution_count": 30,
   "metadata": {
    "execution": {
     "iopub.execute_input": "2020-12-07T09:36:11.789968Z",
     "iopub.status.busy": "2020-12-07T09:36:11.789652Z",
     "iopub.status.idle": "2020-12-07T09:36:11.792784Z",
     "shell.execute_reply": "2020-12-07T09:36:11.792501Z"
    },
    "scrolled": true
   },
   "outputs": [
    {
     "data": {
      "text/plain": [
       "(numpy.ndarray, (100, 28, 28), dtype('uint8'))"
      ]
     },
     "execution_count": 1,
     "metadata": {},
     "output_type": "execute_result"
    }
   ],
   "source": [
    "x8 = toUint8(interpreter, x).numpy()\n",
    "\n",
    "type(x8), x8.shape, x8.dtype"
   ]
  },
  {
   "cell_type": "code",
   "execution_count": 31,
   "metadata": {
    "execution": {
     "iopub.execute_input": "2020-12-07T09:36:11.794902Z",
     "iopub.status.busy": "2020-12-07T09:36:11.794640Z",
     "iopub.status.idle": "2020-12-07T09:36:11.801521Z",
     "shell.execute_reply": "2020-12-07T09:36:11.801248Z"
    }
   },
   "outputs": [
    {
     "name": "stdout",
     "output_type": "stream",
     "text": [
      "CPU times: user 4.48 ms, sys: 0 ns, total: 4.48 ms\n",
      "Wall time: 4.3 ms\n"
     ]
    },
    {
     "data": {
      "text/plain": [
       "9"
      ]
     },
     "execution_count": 1,
     "metadata": {},
     "output_type": "execute_result"
    }
   ],
   "source": [
    "%time run(interpreter, x8)[-1]"
   ]
  },
  {
   "cell_type": "code",
   "execution_count": 32,
   "metadata": {
    "execution": {
     "iopub.execute_input": "2020-12-07T09:36:11.803720Z",
     "iopub.status.busy": "2020-12-07T09:36:11.803460Z",
     "iopub.status.idle": "2020-12-07T09:36:15.126216Z",
     "shell.execute_reply": "2020-12-07T09:36:15.125931Z"
    }
   },
   "outputs": [
    {
     "name": "stdout",
     "output_type": "stream",
     "text": [
      "4.1 ms ± 31 µs per loop (mean ± std. dev. of 7 runs, 100 loops each)\n"
     ]
    }
   ],
   "source": [
    "%timeit run(interpreter, x8)[-1]"
   ]
  },
  {
   "cell_type": "code",
   "execution_count": 33,
   "metadata": {
    "execution": {
     "iopub.execute_input": "2020-12-07T09:36:15.128396Z",
     "iopub.status.busy": "2020-12-07T09:36:15.128115Z",
     "iopub.status.idle": "2020-12-07T09:36:15.498389Z",
     "shell.execute_reply": "2020-12-07T09:36:15.498613Z"
    }
   },
   "outputs": [
    {
     "name": "stdout",
     "output_type": "stream",
     "text": [
      "367.7ms\n",
      "CPU times: user 368 ms, sys: 0 ns, total: 368 ms\n",
      "Wall time: 368 ms\n"
     ]
    },
    {
     "data": {
      "text/plain": [
       "[0]"
      ]
     },
     "execution_count": 1,
     "metadata": {},
     "output_type": "execute_result"
    }
   ],
   "source": [
    "%time repeat(interpreter, [x8[0]])"
   ]
  },
  {
   "cell_type": "markdown",
   "metadata": {},
   "source": [
    "## Dyn quant fio edge"
   ]
  },
  {
   "cell_type": "code",
   "execution_count": 34,
   "metadata": {
    "execution": {
     "iopub.execute_input": "2020-12-07T09:36:15.507085Z",
     "iopub.status.busy": "2020-12-07T09:36:15.506811Z",
     "iopub.status.idle": "2020-12-07T09:36:28.362571Z",
     "shell.execute_reply": "2020-12-07T09:36:28.362275Z"
    }
   },
   "outputs": [
    {
     "name": "stdout",
     "output_type": "stream",
     "text": [
      "15.9 ms ± 291 µs per loop (mean ± std. dev. of 7 runs, 100 loops each)\n"
     ]
    }
   ],
   "source": [
    "interpreter = edge_interpreter(\"mnist_fio_edgetpu.tflite\")\n",
    "\n",
    "%timeit run(interpreter, x)[-1]"
   ]
  },
  {
   "cell_type": "code",
   "execution_count": 35,
   "metadata": {
    "execution": {
     "iopub.execute_input": "2020-12-07T09:36:28.364828Z",
     "iopub.status.busy": "2020-12-07T09:36:28.364564Z",
     "iopub.status.idle": "2020-12-07T09:36:29.891502Z",
     "shell.execute_reply": "2020-12-07T09:36:29.891208Z"
    }
   },
   "outputs": [
    {
     "name": "stdout",
     "output_type": "stream",
     "text": [
      "1524.1ms\n",
      "CPU times: user 413 ms, sys: 98.6 ms, total: 512 ms\n",
      "Wall time: 1.52 s\n"
     ]
    },
    {
     "data": {
      "text/plain": [
       "[0]"
      ]
     },
     "execution_count": 1,
     "metadata": {},
     "output_type": "execute_result"
    }
   ],
   "source": [
    "%time repeat(interpreter, [x[0]])"
   ]
  },
  {
   "cell_type": "markdown",
   "metadata": {},
   "source": [
    "## Dyn quant int edge"
   ]
  },
  {
   "cell_type": "code",
   "execution_count": 36,
   "metadata": {
    "execution": {
     "iopub.execute_input": "2020-12-07T09:36:29.894086Z",
     "iopub.status.busy": "2020-12-07T09:36:29.893811Z",
     "iopub.status.idle": "2020-12-07T09:36:29.904863Z",
     "shell.execute_reply": "2020-12-07T09:36:29.904556Z"
    }
   },
   "outputs": [
    {
     "data": {
      "text/plain": [
       "(numpy.ndarray, (100, 28, 28), dtype('uint8'))"
      ]
     },
     "execution_count": 1,
     "metadata": {},
     "output_type": "execute_result"
    }
   ],
   "source": [
    "interpreter = edge_interpreter(\"mnist_int_edgetpu.tflite\")\n",
    "\n",
    "x8 = toUint8(interpreter, x).numpy()\n",
    "\n",
    "type(x8), x8.shape, x8.dtype"
   ]
  },
  {
   "cell_type": "code",
   "execution_count": 37,
   "metadata": {
    "execution": {
     "iopub.execute_input": "2020-12-07T09:36:29.907506Z",
     "iopub.status.busy": "2020-12-07T09:36:29.907209Z",
     "iopub.status.idle": "2020-12-07T09:36:41.877042Z",
     "shell.execute_reply": "2020-12-07T09:36:41.876752Z"
    }
   },
   "outputs": [
    {
     "name": "stdout",
     "output_type": "stream",
     "text": [
      "14.7 ms ± 391 µs per loop (mean ± std. dev. of 7 runs, 100 loops each)\n"
     ]
    }
   ],
   "source": [
    "%timeit run(interpreter, x8)[-1]"
   ]
  },
  {
   "cell_type": "code",
   "execution_count": 38,
   "metadata": {
    "execution": {
     "iopub.execute_input": "2020-12-07T09:36:41.879702Z",
     "iopub.status.busy": "2020-12-07T09:36:41.879428Z",
     "iopub.status.idle": "2020-12-07T09:36:43.262156Z",
     "shell.execute_reply": "2020-12-07T09:36:43.261855Z"
    }
   },
   "outputs": [
    {
     "name": "stdout",
     "output_type": "stream",
     "text": [
      "1379.4ms\n",
      "CPU times: user 281 ms, sys: 66.6 ms, total: 347 ms\n",
      "Wall time: 1.38 s\n"
     ]
    },
    {
     "data": {
      "text/plain": [
       "[0]"
      ]
     },
     "execution_count": 1,
     "metadata": {},
     "output_type": "execute_result"
    }
   ],
   "source": [
    "%time repeat(interpreter, [x8[0]])"
   ]
  }
 ],
 "metadata": {
  "colab": {
   "collapsed_sections": [],
   "name": "post_training_integer_quant.ipynb",
   "toc_visible": true
  },
  "kernelspec": {
   "display_name": "Python 3",
   "language": "python",
   "name": "python3"
  },
  "language_info": {
   "codemirror_mode": {
    "name": "ipython",
    "version": 3
   },
   "file_extension": ".py",
   "mimetype": "text/x-python",
   "name": "python",
   "nbconvert_exporter": "python",
   "pygments_lexer": "ipython3",
   "version": "3.8.5"
  }
 },
 "nbformat": 4,
 "nbformat_minor": 1
}
